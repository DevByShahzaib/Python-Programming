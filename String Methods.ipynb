{
 "cells": [
  {
   "cell_type": "markdown",
   "id": "84246188",
   "metadata": {},
   "source": [
    "# Strings are immutable in python"
   ]
  },
  {
   "cell_type": "code",
   "execution_count": 1,
   "id": "a0a3a0b6",
   "metadata": {},
   "outputs": [
    {
     "name": "stdout",
     "output_type": "stream",
     "text": [
      "5\n"
     ]
    }
   ],
   "source": [
    "a = \"HaRry\"\n",
    "print(len(a))"
   ]
  },
  {
   "cell_type": "code",
   "execution_count": 2,
   "id": "99c18ecd",
   "metadata": {},
   "outputs": [
    {
     "data": {
      "text/plain": [
       "'HARRY'"
      ]
     },
     "execution_count": 2,
     "metadata": {},
     "output_type": "execute_result"
    }
   ],
   "source": [
    "a.upper()"
   ]
  },
  {
   "cell_type": "code",
   "execution_count": 3,
   "id": "3e8b55f8",
   "metadata": {},
   "outputs": [
    {
     "data": {
      "text/plain": [
       "'harry'"
      ]
     },
     "execution_count": 3,
     "metadata": {},
     "output_type": "execute_result"
    }
   ],
   "source": [
    "a.lower()"
   ]
  },
  {
   "cell_type": "code",
   "execution_count": 5,
   "id": "131727a8",
   "metadata": {},
   "outputs": [
    {
     "data": {
      "text/plain": [
       "'Harry'"
      ]
     },
     "execution_count": 5,
     "metadata": {},
     "output_type": "execute_result"
    }
   ],
   "source": [
    "a.title()"
   ]
  },
  {
   "cell_type": "code",
   "execution_count": 8,
   "id": "4d8e89fc",
   "metadata": {},
   "outputs": [
    {
     "name": "stdout",
     "output_type": "stream",
     "text": [
      "!Shahzaib\n"
     ]
    }
   ],
   "source": [
    "b = \"!Shahzaib!\"\n",
    "print(b.rstrip(\"!\")) # just end sy strip krega..."
   ]
  },
  {
   "cell_type": "code",
   "execution_count": 9,
   "id": "c75196bd",
   "metadata": {},
   "outputs": [
    {
     "data": {
      "text/plain": [
       "'Lazaib!'"
      ]
     },
     "execution_count": 9,
     "metadata": {},
     "output_type": "execute_result"
    }
   ],
   "source": [
    "b.replace(\"!Shah\", \"La\")"
   ]
  },
  {
   "cell_type": "markdown",
   "id": "d858735d",
   "metadata": {},
   "source": [
    "# Split converts string into List"
   ]
  },
  {
   "cell_type": "code",
   "execution_count": 10,
   "id": "70850e45",
   "metadata": {},
   "outputs": [
    {
     "data": {
      "text/plain": [
       "['!S', 'a', 'zaib!']"
      ]
     },
     "execution_count": 10,
     "metadata": {},
     "output_type": "execute_result"
    }
   ],
   "source": [
    "b.split(\"h\")"
   ]
  },
  {
   "cell_type": "code",
   "execution_count": 14,
   "id": "7dbc80d5",
   "metadata": {},
   "outputs": [
    {
     "name": "stdout",
     "output_type": "stream",
     "text": [
      "It was a rainy day \n"
     ]
    }
   ],
   "source": [
    "blog = \"it waS a rAiny daY \"\n",
    "print(blog.capitalize())"
   ]
  },
  {
   "cell_type": "code",
   "execution_count": 20,
   "id": "ba08360a",
   "metadata": {},
   "outputs": [
    {
     "name": "stdout",
     "output_type": "stream",
     "text": [
      "25\n",
      "            Welcome to the Console!!!             \n",
      "50\n"
     ]
    }
   ],
   "source": [
    "c = \"Welcome to the Console!!!\"\n",
    "print(len(c))\n",
    "print(c.center(50))\n",
    "print(len(c.center(50)))"
   ]
  },
  {
   "cell_type": "code",
   "execution_count": 22,
   "id": "61bcc5a6",
   "metadata": {},
   "outputs": [
    {
     "name": "stdout",
     "output_type": "stream",
     "text": [
      "4\n"
     ]
    }
   ],
   "source": [
    "print(c.count(\"e\")) # how many times e occurs"
   ]
  },
  {
   "cell_type": "code",
   "execution_count": 23,
   "id": "d69980c8",
   "metadata": {},
   "outputs": [
    {
     "data": {
      "text/plain": [
       "True"
      ]
     },
     "execution_count": 23,
     "metadata": {},
     "output_type": "execute_result"
    }
   ],
   "source": [
    "c.endswith(\"!!!\")"
   ]
  },
  {
   "cell_type": "code",
   "execution_count": 26,
   "id": "fbee0962",
   "metadata": {},
   "outputs": [
    {
     "data": {
      "text/plain": [
       "True"
      ]
     },
     "execution_count": 26,
     "metadata": {},
     "output_type": "execute_result"
    }
   ],
   "source": [
    "c.endswith(\"to\",4,10) # 4 to 10 ki range me occur krha h to True return krega"
   ]
  },
  {
   "cell_type": "code",
   "execution_count": 28,
   "id": "6b7be008",
   "metadata": {},
   "outputs": [
    {
     "data": {
      "text/plain": [
       "10"
      ]
     },
     "execution_count": 28,
     "metadata": {},
     "output_type": "execute_result"
    }
   ],
   "source": [
    "f = \"He's name is john. He is an honest man\"\n",
    "f.find(\"is\")"
   ]
  },
  {
   "cell_type": "code",
   "execution_count": 30,
   "id": "8089b5e7",
   "metadata": {},
   "outputs": [
    {
     "data": {
      "text/plain": [
       "13"
      ]
     },
     "execution_count": 30,
     "metadata": {},
     "output_type": "execute_result"
    }
   ],
   "source": [
    "f.index(\"john\")"
   ]
  },
  {
   "cell_type": "code",
   "execution_count": 32,
   "id": "7a7a1399",
   "metadata": {},
   "outputs": [
    {
     "data": {
      "text/plain": [
       "True"
      ]
     },
     "execution_count": 32,
     "metadata": {},
     "output_type": "execute_result"
    }
   ],
   "source": [
    "v = \"MyNameIsKhan\"\n",
    "v.isalnum() #when string contains only alpha numeric charactor"
   ]
  },
  {
   "cell_type": "code",
   "execution_count": 33,
   "id": "4075dc24",
   "metadata": {},
   "outputs": [
    {
     "data": {
      "text/plain": [
       "False"
      ]
     },
     "execution_count": 33,
     "metadata": {},
     "output_type": "execute_result"
    }
   ],
   "source": [
    "v.islower()"
   ]
  },
  {
   "cell_type": "code",
   "execution_count": 34,
   "id": "2aa99559",
   "metadata": {},
   "outputs": [
    {
     "data": {
      "text/plain": [
       "False"
      ]
     },
     "execution_count": 34,
     "metadata": {},
     "output_type": "execute_result"
    }
   ],
   "source": [
    "v.isupper()"
   ]
  },
  {
   "cell_type": "code",
   "execution_count": 38,
   "id": "992dec7b",
   "metadata": {},
   "outputs": [
    {
     "name": "stdout",
     "output_type": "stream",
     "text": [
      "True\n",
      "False\n"
     ]
    }
   ],
   "source": [
    "s  = \"Myname\\nkhan\"\n",
    "\n",
    "print(v.isprintable())\n",
    "print(s.isprintable())"
   ]
  },
  {
   "cell_type": "code",
   "execution_count": null,
   "id": "bd89e0cc",
   "metadata": {},
   "outputs": [],
   "source": []
  },
  {
   "cell_type": "code",
   "execution_count": null,
   "id": "9ee981ce",
   "metadata": {},
   "outputs": [],
   "source": []
  }
 ],
 "metadata": {
  "kernelspec": {
   "display_name": "Python 3 (ipykernel)",
   "language": "python",
   "name": "python3"
  },
  "language_info": {
   "codemirror_mode": {
    "name": "ipython",
    "version": 3
   },
   "file_extension": ".py",
   "mimetype": "text/x-python",
   "name": "python",
   "nbconvert_exporter": "python",
   "pygments_lexer": "ipython3",
   "version": "3.9.13"
  }
 },
 "nbformat": 4,
 "nbformat_minor": 5
}
