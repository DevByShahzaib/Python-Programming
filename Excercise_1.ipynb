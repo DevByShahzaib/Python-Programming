{
 "cells": [
  {
   "cell_type": "code",
   "execution_count": 2,
   "id": "6af6567b",
   "metadata": {},
   "outputs": [
    {
     "name": "stdout",
     "output_type": "stream",
     "text": [
      "11\n",
      "-1\n",
      "0.8333333333333334\n",
      "5\n",
      "0\n",
      "30\n",
      "15625\n"
     ]
    }
   ],
   "source": [
    "print(5+6)\n",
    "print(5-6)\n",
    "print(5/6)\n",
    "print(5%6)\n",
    "print(5//6)\n",
    "print(5*6)\n",
    "print(5**6)"
   ]
  },
  {
   "cell_type": "code",
   "execution_count": null,
   "id": "c5642c85",
   "metadata": {},
   "outputs": [],
   "source": []
  }
 ],
 "metadata": {
  "kernelspec": {
   "display_name": "Python 3 (ipykernel)",
   "language": "python",
   "name": "python3"
  },
  "language_info": {
   "codemirror_mode": {
    "name": "ipython",
    "version": 3
   },
   "file_extension": ".py",
   "mimetype": "text/x-python",
   "name": "python",
   "nbconvert_exporter": "python",
   "pygments_lexer": "ipython3",
   "version": "3.9.13"
  }
 },
 "nbformat": 4,
 "nbformat_minor": 5
}
