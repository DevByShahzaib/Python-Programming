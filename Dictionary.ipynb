{
 "cells": [
  {
   "cell_type": "code",
   "execution_count": 1,
   "id": "23784344",
   "metadata": {},
   "outputs": [],
   "source": [
    "info = {\n",
    "    12:\"shahzaib\",\n",
    "    13:\"Karan\",\n",
    "    14:\"Khan\",\n",
    "    15:\"Rafay\"\n",
    "}"
   ]
  },
  {
   "cell_type": "code",
   "execution_count": 2,
   "id": "66835a73",
   "metadata": {},
   "outputs": [
    {
     "data": {
      "text/plain": [
       "{12: 'shahzaib', 13: 'Karan', 14: 'Khan', 15: 'Rafay'}"
      ]
     },
     "execution_count": 2,
     "metadata": {},
     "output_type": "execute_result"
    }
   ],
   "source": [
    "info"
   ]
  },
  {
   "cell_type": "code",
   "execution_count": 3,
   "id": "32128d2c",
   "metadata": {},
   "outputs": [
    {
     "data": {
      "text/plain": [
       "'shahzaib'"
      ]
     },
     "execution_count": 3,
     "metadata": {},
     "output_type": "execute_result"
    }
   ],
   "source": [
    "info[12] # if key isn't present this technique shows an error"
   ]
  },
  {
   "cell_type": "code",
   "execution_count": 4,
   "id": "0e68e030",
   "metadata": {},
   "outputs": [
    {
     "data": {
      "text/plain": [
       "'shahzaib'"
      ]
     },
     "execution_count": 4,
     "metadata": {},
     "output_type": "execute_result"
    }
   ],
   "source": [
    "info.get(12) # if key isn't present this technique do not shows an error"
   ]
  },
  {
   "cell_type": "code",
   "execution_count": 6,
   "id": "0df75a93",
   "metadata": {},
   "outputs": [
    {
     "name": "stdout",
     "output_type": "stream",
     "text": [
      "shahzaib\n",
      "Karan\n",
      "Khan\n",
      "Rafay\n"
     ]
    }
   ],
   "source": [
    "for key in info.keys():\n",
    "    print(info[key])"
   ]
  },
  {
   "cell_type": "code",
   "execution_count": 7,
   "id": "53aca5fd",
   "metadata": {},
   "outputs": [
    {
     "data": {
      "text/plain": [
       "dict_values(['shahzaib', 'Karan', 'Khan', 'Rafay'])"
      ]
     },
     "execution_count": 7,
     "metadata": {},
     "output_type": "execute_result"
    }
   ],
   "source": [
    "info.values()"
   ]
  },
  {
   "cell_type": "code",
   "execution_count": 8,
   "id": "26e3d509",
   "metadata": {},
   "outputs": [
    {
     "data": {
      "text/plain": [
       "dict_keys([12, 13, 14, 15])"
      ]
     },
     "execution_count": 8,
     "metadata": {},
     "output_type": "execute_result"
    }
   ],
   "source": [
    "info.keys()"
   ]
  },
  {
   "cell_type": "markdown",
   "id": "6a889e0e",
   "metadata": {},
   "source": [
    "# we get key_value pairs by item"
   ]
  },
  {
   "cell_type": "code",
   "execution_count": 10,
   "id": "b0bcbdcb",
   "metadata": {},
   "outputs": [
    {
     "data": {
      "text/plain": [
       "dict_items([(12, 'shahzaib'), (13, 'Karan'), (14, 'Khan'), (15, 'Rafay')])"
      ]
     },
     "execution_count": 10,
     "metadata": {},
     "output_type": "execute_result"
    }
   ],
   "source": [
    "info.items()"
   ]
  },
  {
   "cell_type": "code",
   "execution_count": null,
   "id": "e68876f6",
   "metadata": {},
   "outputs": [],
   "source": [
    "for key,value in info.items():\n",
    "    pri"
   ]
  }
 ],
 "metadata": {
  "kernelspec": {
   "display_name": "Python 3 (ipykernel)",
   "language": "python",
   "name": "python3"
  },
  "language_info": {
   "codemirror_mode": {
    "name": "ipython",
    "version": 3
   },
   "file_extension": ".py",
   "mimetype": "text/x-python",
   "name": "python",
   "nbconvert_exporter": "python",
   "pygments_lexer": "ipython3",
   "version": "3.9.13"
  }
 },
 "nbformat": 4,
 "nbformat_minor": 5
}
