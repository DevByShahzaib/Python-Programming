{
 "cells": [
  {
   "cell_type": "code",
   "execution_count": 17,
   "id": "6480246f",
   "metadata": {},
   "outputs": [
    {
     "name": "stdout",
     "output_type": "stream",
     "text": [
      "Enter the number :23\n",
      "Multiplicaton table of 23 is :\n",
      "23 X 1 = 23\n",
      "23 X 2 = 46\n",
      "23 X 3 = 69\n",
      "23 X 4 = 92\n",
      "23 X 5 = 115\n",
      "23 X 6 = 138\n",
      "23 X 7 = 161\n",
      "23 X 8 = 184\n",
      "23 X 9 = 207\n",
      "23 X 10 = 230\n",
      "Some imp lines of code\n"
     ]
    }
   ],
   "source": [
    "a = input(\"Enter the number :\")\n",
    "try:\n",
    "    print(f\"Multiplicaton table of {a} is :\")\n",
    "    for i in range(1,11):\n",
    "        print(f\"{int(a)} X {i} = {int(a)*i}\")\n",
    "# except Exception as e:\n",
    "#     print(e)\n",
    "except:\n",
    "    print(\"Invalid Input\")\n",
    "    \n",
    "print('Some imp lines of code')\n",
    "    "
   ]
  },
  {
   "cell_type": "markdown",
   "id": "09393fe5",
   "metadata": {},
   "source": [
    "# We can  Handle Multiple Errors using many excepts"
   ]
  },
  {
   "cell_type": "code",
   "execution_count": 20,
   "id": "f17d1f19",
   "metadata": {},
   "outputs": [
    {
     "name": "stdout",
     "output_type": "stream",
     "text": [
      "Enter Number :2\n",
      "Index Error\n"
     ]
    }
   ],
   "source": [
    "try:\n",
    "    num = int(input(\"Enter Number :\"))\n",
    "    a = [23,34]\n",
    "    print(a[num])\n",
    "except ValueError:\n",
    "    print(\"Number entered is not an integer\")\n",
    "except IndexError:\n",
    "    print(\"Index Error\")\n"
   ]
  },
  {
   "cell_type": "code",
   "execution_count": null,
   "id": "5e466058",
   "metadata": {},
   "outputs": [],
   "source": []
  },
  {
   "cell_type": "code",
   "execution_count": null,
   "id": "7413874c",
   "metadata": {},
   "outputs": [],
   "source": []
  }
 ],
 "metadata": {
  "kernelspec": {
   "display_name": "Python 3 (ipykernel)",
   "language": "python",
   "name": "python3"
  },
  "language_info": {
   "codemirror_mode": {
    "name": "ipython",
    "version": 3
   },
   "file_extension": ".py",
   "mimetype": "text/x-python",
   "name": "python",
   "nbconvert_exporter": "python",
   "pygments_lexer": "ipython3",
   "version": "3.9.13"
  }
 },
 "nbformat": 4,
 "nbformat_minor": 5
}
