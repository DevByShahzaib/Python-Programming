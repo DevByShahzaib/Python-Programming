{
 "cells": [
  {
   "cell_type": "code",
   "execution_count": 1,
   "id": "53f34d96",
   "metadata": {},
   "outputs": [
    {
     "name": "stdout",
     "output_type": "stream",
     "text": [
      "Hello Shazaib\n"
     ]
    }
   ],
   "source": [
    "name = \"Shazaib\"\n",
    "friend = \"Khan\"\n",
    "anotherFriend = \"Alex\"\n",
    "print(\"Hello\",name)"
   ]
  },
  {
   "cell_type": "code",
   "execution_count": 2,
   "id": "808d5094",
   "metadata": {},
   "outputs": [
    {
     "name": "stdout",
     "output_type": "stream",
     "text": [
      "He is nice\"  guy\n"
     ]
    }
   ],
   "source": [
    "print(\"He is nice\\\"  guy\")"
   ]
  },
  {
   "cell_type": "code",
   "execution_count": 3,
   "id": "ba1a7acd",
   "metadata": {},
   "outputs": [
    {
     "data": {
      "text/plain": [
       "'Shaz'"
      ]
     },
     "execution_count": 3,
     "metadata": {},
     "output_type": "execute_result"
    }
   ],
   "source": [
    "name[0:4]"
   ]
  },
  {
   "cell_type": "code",
   "execution_count": 4,
   "id": "4d203442",
   "metadata": {},
   "outputs": [
    {
     "data": {
      "text/plain": [
       "'Shaz'"
      ]
     },
     "execution_count": 4,
     "metadata": {},
     "output_type": "execute_result"
    }
   ],
   "source": [
    "name[:4]"
   ]
  },
  {
   "cell_type": "code",
   "execution_count": 5,
   "id": "1f84fcff",
   "metadata": {},
   "outputs": [
    {
     "data": {
      "text/plain": [
       "'aib'"
      ]
     },
     "execution_count": 5,
     "metadata": {},
     "output_type": "execute_result"
    }
   ],
   "source": [
    "name[4:]"
   ]
  },
  {
   "cell_type": "code",
   "execution_count": 6,
   "id": "a443eccf",
   "metadata": {},
   "outputs": [
    {
     "data": {
      "text/plain": [
       "'b'"
      ]
     },
     "execution_count": 6,
     "metadata": {},
     "output_type": "execute_result"
    }
   ],
   "source": [
    "name[-1]"
   ]
  },
  {
   "cell_type": "code",
   "execution_count": 9,
   "id": "2178bc67",
   "metadata": {},
   "outputs": [
    {
     "name": "stdout",
     "output_type": "stream",
     "text": [
      "S\n",
      "h\n",
      "a\n",
      "z\n",
      "a\n",
      "i\n",
      "b\n"
     ]
    }
   ],
   "source": [
    "for i in name:\n",
    "    print(i)\n",
    "#     print(i,end = '')\n"
   ]
  },
  {
   "cell_type": "code",
   "execution_count": null,
   "id": "f34947cf",
   "metadata": {},
   "outputs": [],
   "source": []
  }
 ],
 "metadata": {
  "kernelspec": {
   "display_name": "Python 3 (ipykernel)",
   "language": "python",
   "name": "python3"
  },
  "language_info": {
   "codemirror_mode": {
    "name": "ipython",
    "version": 3
   },
   "file_extension": ".py",
   "mimetype": "text/x-python",
   "name": "python",
   "nbconvert_exporter": "python",
   "pygments_lexer": "ipython3",
   "version": "3.9.13"
  }
 },
 "nbformat": 4,
 "nbformat_minor": 5
}
