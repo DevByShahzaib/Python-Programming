{
 "cells": [
  {
   "cell_type": "code",
   "execution_count": 6,
   "id": "da1707a1",
   "metadata": {},
   "outputs": [
    {
     "name": "stdout",
     "output_type": "stream",
     "text": [
      "('The average is ', 4.5)\n",
      "('The average is ', 5.0)\n"
     ]
    },
    {
     "data": {
      "text/plain": [
       "('The average is ', 10.0)"
      ]
     },
     "execution_count": 6,
     "metadata": {},
     "output_type": "execute_result"
    }
   ],
   "source": [
    "def avg(a=7,b=3):\n",
    "    return (\"The average is \", (a+b)/2)\n",
    "    \n",
    "print(avg(5,4))\n",
    "print(avg())\n",
    "avg(b=6, a = 14)"
   ]
  },
  {
   "cell_type": "code",
   "execution_count": 21,
   "id": "276a1242",
   "metadata": {},
   "outputs": [],
   "source": [
    "def average(*numbers):\n",
    "    sum_ = 0\n",
    "    for i in numbers:\n",
    "#         print(i)\n",
    "        sum_  += i\n",
    "    print(\"Average is : \", sum_/len(numbers))"
   ]
  },
  {
   "cell_type": "code",
   "execution_count": 22,
   "id": "e5fa2ad8",
   "metadata": {},
   "outputs": [
    {
     "name": "stdout",
     "output_type": "stream",
     "text": [
      "Average is :  63.5\n"
     ]
    }
   ],
   "source": [
    "average(4,123)"
   ]
  },
  {
   "cell_type": "code",
   "execution_count": null,
   "id": "9cf097a2",
   "metadata": {},
   "outputs": [],
   "source": []
  },
  {
   "cell_type": "code",
   "execution_count": null,
   "id": "c56ffe69",
   "metadata": {},
   "outputs": [],
   "source": []
  }
 ],
 "metadata": {
  "kernelspec": {
   "display_name": "Python 3 (ipykernel)",
   "language": "python",
   "name": "python3"
  },
  "language_info": {
   "codemirror_mode": {
    "name": "ipython",
    "version": 3
   },
   "file_extension": ".py",
   "mimetype": "text/x-python",
   "name": "python",
   "nbconvert_exporter": "python",
   "pygments_lexer": "ipython3",
   "version": "3.9.13"
  }
 },
 "nbformat": 4,
 "nbformat_minor": 5
}
