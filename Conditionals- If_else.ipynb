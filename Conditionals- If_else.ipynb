{
 "cells": [
  {
   "cell_type": "code",
   "execution_count": 1,
   "id": "deb56e5b",
   "metadata": {},
   "outputs": [
    {
     "name": "stdout",
     "output_type": "stream",
     "text": [
      "Alexa, do not add Apples to the cart.\n"
     ]
    }
   ],
   "source": [
    "applePrice = 210\n",
    "budget = 200\n",
    "if applePrice <= budget:\n",
    "    print(\"Alexa add 1kg Apples to the cart.\")\n",
    "else:\n",
    "    print(\"Alexa, do not add Apples to the cart.\")"
   ]
  },
  {
   "cell_type": "code",
   "execution_count": 5,
   "id": "496c0493",
   "metadata": {},
   "outputs": [
    {
     "name": "stdout",
     "output_type": "stream",
     "text": [
      "Enter the value of num :-12\n",
      "Negative\n"
     ]
    }
   ],
   "source": [
    "num =  int(input(\"Enter the value of num :\"))\n",
    "if num<0:\n",
    "    print(\"Negative\")\n",
    "elif num==0:\n",
    "    print(\"Zero\")\n",
    "elif num==999:\n",
    "    print(\"Number is Special\")\n",
    "else:\n",
    "    print(\"postive\")"
   ]
  },
  {
   "cell_type": "code",
   "execution_count": null,
   "id": "795ac9c3",
   "metadata": {},
   "outputs": [],
   "source": []
  }
 ],
 "metadata": {
  "kernelspec": {
   "display_name": "Python 3 (ipykernel)",
   "language": "python",
   "name": "python3"
  },
  "language_info": {
   "codemirror_mode": {
    "name": "ipython",
    "version": 3
   },
   "file_extension": ".py",
   "mimetype": "text/x-python",
   "name": "python",
   "nbconvert_exporter": "python",
   "pygments_lexer": "ipython3",
   "version": "3.9.13"
  }
 },
 "nbformat": 4,
 "nbformat_minor": 5
}
