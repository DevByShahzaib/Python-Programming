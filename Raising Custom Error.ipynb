{
 "cells": [
  {
   "cell_type": "code",
   "execution_count": 5,
   "id": "9a3ffa16",
   "metadata": {},
   "outputs": [
    {
     "name": "stdout",
     "output_type": "stream",
     "text": [
      "Enter any value between 5 and 9 :5\n"
     ]
    }
   ],
   "source": [
    "a = int(input(\"Enter any value between 5 and 9 :\"))\n",
    "if (a<5 or a>9):\n",
    "    raise ValueError(\"Value should be between 5 and 9\")"
   ]
  },
  {
   "cell_type": "code",
   "execution_count": null,
   "id": "0ccd0b95",
   "metadata": {},
   "outputs": [],
   "source": []
  }
 ],
 "metadata": {
  "kernelspec": {
   "display_name": "Python 3 (ipykernel)",
   "language": "python",
   "name": "python3"
  },
  "language_info": {
   "codemirror_mode": {
    "name": "ipython",
    "version": 3
   },
   "file_extension": ".py",
   "mimetype": "text/x-python",
   "name": "python",
   "nbconvert_exporter": "python",
   "pygments_lexer": "ipython3",
   "version": "3.9.13"
  }
 },
 "nbformat": 4,
 "nbformat_minor": 5
}
