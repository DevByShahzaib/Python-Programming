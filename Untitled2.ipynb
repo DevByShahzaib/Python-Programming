{
 "cells": [
  {
   "cell_type": "code",
   "execution_count": 9,
   "id": "d573c225",
   "metadata": {},
   "outputs": [
    {
     "data": {
      "text/plain": [
       "\"Hey..! My name is Shahzaib Khan. I'm Student of BSSE in UBIT.Also I am Learning Python for DataScienceAlso I am Learning Python for DataScience\""
      ]
     },
     "execution_count": 9,
     "metadata": {},
     "output_type": "execute_result"
    }
   ],
   "source": [
    "f = open('myfile.txt', \"r\") # r=>read, w=>write, a=>append()\n",
    "text = f.read()\n",
    "f.close()\n",
    "text"
   ]
  },
  {
   "cell_type": "code",
   "execution_count": 10,
   "id": "c2b7ecb1",
   "metadata": {},
   "outputs": [],
   "source": [
    "a = open('myfile.txt', \"a\")\n",
    "t = a.write(\"Also I am Learning Python for DataScience  \")\n"
   ]
  },
  {
   "cell_type": "code",
   "execution_count": 11,
   "id": "8141dba3",
   "metadata": {},
   "outputs": [
    {
     "data": {
      "text/plain": [
       "\"Hey..! My name is Shahzaib Khan. I'm Student of BSSE in UBIT.Also I am Learning Python for DataScienceAlso I am Learning Python for DataScienceAlso I am Learning Python for DataScience  \""
      ]
     },
     "execution_count": 11,
     "metadata": {},
     "output_type": "execute_result"
    }
   ],
   "source": [
    "a = open(\"myfile.txt\", \"r\")\n",
    "te = a.read()\n",
    "te"
   ]
  },
  {
   "cell_type": "code",
   "execution_count": null,
   "id": "2e18e875",
   "metadata": {},
   "outputs": [],
   "source": []
  }
 ],
 "metadata": {
  "kernelspec": {
   "display_name": "Python 3 (ipykernel)",
   "language": "python",
   "name": "python3"
  },
  "language_info": {
   "codemirror_mode": {
    "name": "ipython",
    "version": 3
   },
   "file_extension": ".py",
   "mimetype": "text/x-python",
   "name": "python",
   "nbconvert_exporter": "python",
   "pygments_lexer": "ipython3",
   "version": "3.9.13"
  }
 },
 "nbformat": 4,
 "nbformat_minor": 5
}
