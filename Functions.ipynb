{
 "cells": [
  {
   "cell_type": "code",
   "execution_count": 2,
   "id": "3c8295c5",
   "metadata": {},
   "outputs": [
    {
     "name": "stdout",
     "output_type": "stream",
     "text": [
      "4.7368421052631575\n",
      "3.7333333333333334\n"
     ]
    }
   ],
   "source": [
    "a = 9\n",
    "b =10\n",
    "gmean = (a*b)/(a+b)\n",
    "c = 8\n",
    "d = 7\n",
    "print(gmean)\n",
    "gmean2 = (c*d)/(c+d)\n",
    "print(gmean2)"
   ]
  },
  {
   "cell_type": "code",
   "execution_count": 12,
   "id": "8944251b",
   "metadata": {},
   "outputs": [
    {
     "name": "stdout",
     "output_type": "stream",
     "text": [
      "2.727272727272727\n",
      "Second number is greater or equal\n",
      "None\n"
     ]
    }
   ],
   "source": [
    "def gMean(a,b):\n",
    "    mean = (a*b)/(a+b)\n",
    "    return mean\n",
    "def greater(a,b):\n",
    "    if (a>b):\n",
    "        print(\"First number is greater\")\n",
    "    else:\n",
    "        print(\"Second number is greater or equal\")\n",
    "\n",
    "a = 5\n",
    "b = 6\n",
    "print(gMean(a,b))\n",
    "print(greater(a,b))"
   ]
  },
  {
   "cell_type": "code",
   "execution_count": 4,
   "id": "8c444343",
   "metadata": {},
   "outputs": [
    {
     "data": {
      "text/plain": [
       "3.7333333333333334"
      ]
     },
     "execution_count": 4,
     "metadata": {},
     "output_type": "execute_result"
    }
   ],
   "source": [
    "gMean(8,7)"
   ]
  },
  {
   "cell_type": "code",
   "execution_count": 13,
   "id": "31d6b4b2",
   "metadata": {},
   "outputs": [],
   "source": [
    "def isLesser(a,b):\n",
    "    pass"
   ]
  },
  {
   "cell_type": "code",
   "execution_count": null,
   "id": "135d8059",
   "metadata": {},
   "outputs": [],
   "source": []
  }
 ],
 "metadata": {
  "kernelspec": {
   "display_name": "Python 3 (ipykernel)",
   "language": "python",
   "name": "python3"
  },
  "language_info": {
   "codemirror_mode": {
    "name": "ipython",
    "version": 3
   },
   "file_extension": ".py",
   "mimetype": "text/x-python",
   "name": "python",
   "nbconvert_exporter": "python",
   "pygments_lexer": "ipython3",
   "version": "3.9.13"
  }
 },
 "nbformat": 4,
 "nbformat_minor": 5
}
