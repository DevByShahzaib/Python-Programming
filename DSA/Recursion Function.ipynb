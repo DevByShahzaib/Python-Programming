{
 "cells": [
  {
   "cell_type": "markdown",
   "id": "6c078444",
   "metadata": {},
   "source": [
    "# PRINT SUM OF FIRST \"N\" NUMBERS"
   ]
  },
  {
   "cell_type": "code",
   "execution_count": 5,
   "id": "58b46a39",
   "metadata": {},
   "outputs": [
    {
     "name": "stdout",
     "output_type": "stream",
     "text": [
      "Enter your number to sum :12\n",
      "12 + 11 + 10 + 9 + 8 + 7 + 6 + 5 + 4 + 3 + 2 + 1\n",
      "78\n"
     ]
    }
   ],
   "source": [
    "def sumOfNum(n):\n",
    "    if n==1:\n",
    "        print(n)\n",
    "        return 1 #Base case(where recursion will be terminate)\n",
    "    else:\n",
    "        print(n, '+', end =\" \")\n",
    "        return (n + sumOfNum(n-1))\n",
    "    \n",
    "\n",
    "\n",
    "\n",
    "a = int(input(\"Enter your number to sum :\"))\n",
    "result = sumOfNum(a)\n",
    "print(result)"
   ]
  },
  {
   "cell_type": "markdown",
   "id": "f5d558f4",
   "metadata": {},
   "source": [
    "# PRINT STRING IN REVERS ORDER"
   ]
  },
  {
   "cell_type": "code",
   "execution_count": 2,
   "id": "fe747be5",
   "metadata": {},
   "outputs": [
    {
     "name": "stdout",
     "output_type": "stream",
     "text": [
      "Enter your String to Revers :12\n",
      "21\n"
     ]
    }
   ],
   "source": [
    "def Revers(s,n):\n",
    "    if n == 0:\n",
    "        print(s[0])\n",
    "    else:\n",
    "        print(s[n],end=\"\")\n",
    "        Revers(s,n-1)\n",
    "\n",
    "\n",
    "\n",
    "s = input(\"Enter your String to Revers :\")\n",
    "result = Revers(s,len(s)-1)\n",
    "result"
   ]
  },
  {
   "cell_type": "markdown",
   "id": "65c615cd",
   "metadata": {},
   "source": [
    "# PROGRAM TO FIND X TO THE POWER Y"
   ]
  },
  {
   "cell_type": "code",
   "execution_count": 3,
   "id": "1bf28cb0",
   "metadata": {},
   "outputs": [
    {
     "name": "stdout",
     "output_type": "stream",
     "text": [
      "Enter base :12\n",
      "Enter power :12\n"
     ]
    },
    {
     "data": {
      "text/plain": [
       "8916100448256"
      ]
     },
     "execution_count": 3,
     "metadata": {},
     "output_type": "execute_result"
    }
   ],
   "source": [
    "def find_num(x,y):\n",
    "    if y==0:\n",
    "        return 1\n",
    "    else:\n",
    "        return x * find_num(x,y-1)\n",
    "\n",
    "\n",
    "x = int(input(\"Enter base :\"))\n",
    "y = int(input(\"Enter power :\"))\n",
    "find_num(x,y)"
   ]
  },
  {
   "cell_type": "markdown",
   "id": "99b43076",
   "metadata": {},
   "source": [
    "# FIND FACTORIAL USING RECURSION"
   ]
  },
  {
   "cell_type": "code",
   "execution_count": 4,
   "id": "aed78bac",
   "metadata": {},
   "outputs": [
    {
     "name": "stdout",
     "output_type": "stream",
     "text": [
      "Enter your num :12\n",
      "12 x 11 x 10 x 9 x 8 x 7 x 6 x 5 x 4 x 3 x 2 x 1 x "
     ]
    },
    {
     "data": {
      "text/plain": [
       "479001600"
      ]
     },
     "execution_count": 4,
     "metadata": {},
     "output_type": "execute_result"
    }
   ],
   "source": [
    "def fac(f):\n",
    "    if f==0:\n",
    "        return 1\n",
    "    else:\n",
    "        print(f,\"x\",end=' ')\n",
    "        return f*fac(f-1)\n",
    "\n",
    "\n",
    "\n",
    "\n",
    "f = int(input(\"Enter your num :\"))\n",
    "fac(f)"
   ]
  },
  {
   "cell_type": "code",
   "execution_count": null,
   "id": "fc845bb2",
   "metadata": {},
   "outputs": [],
   "source": []
  }
 ],
 "metadata": {
  "kernelspec": {
   "display_name": "Python 3 (ipykernel)",
   "language": "python",
   "name": "python3"
  },
  "language_info": {
   "codemirror_mode": {
    "name": "ipython",
    "version": 3
   },
   "file_extension": ".py",
   "mimetype": "text/x-python",
   "name": "python",
   "nbconvert_exporter": "python",
   "pygments_lexer": "ipython3",
   "version": "3.10.9"
  }
 },
 "nbformat": 4,
 "nbformat_minor": 5
}
