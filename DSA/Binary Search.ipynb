{
 "cells": [
  {
   "cell_type": "markdown",
   "id": "7f6ee2ea",
   "metadata": {},
   "source": [
    "# BINARY SEARCH"
   ]
  },
  {
   "cell_type": "code",
   "execution_count": null,
   "id": "f5f4c9b5",
   "metadata": {},
   "outputs": [],
   "source": [
    "def bSearch(a,size,key):\n",
    "    i = 0\n",
    "    j = (size-1)\n",
    "    flag = 0\n",
    "    while i<=j and flag == 0:\n",
    "        mid = (i+j)//2\n",
    "        if key == a[mid]:\n",
    "            flag = 1\n",
    "        elif a[mid] > key:\n",
    "            j = mid - 1\n",
    "        elif a[mid] < key:\n",
    "            i = mid + 1\n",
    "    if flag == 0:\n",
    "        print('not found')\n",
    "    else:\n",
    "        print(f'Your search number is {key} ')\n",
    "    \n",
    "    \n",
    "    \n",
    "    \n",
    "    \n",
    "a = []\n",
    "size = int(input(\"Enter your number :\"))\n",
    "for i in range(size):\n",
    "    var = int(input(\"Enter elements of an array:\"))\n",
    "    a.append(var)\n",
    "print(a)\n",
    "key = int(input(\"Enter number to find :\"))\n",
    "bSearch(a,size,key)"
   ]
  },
  {
   "cell_type": "markdown",
   "id": "b0d53f52",
   "metadata": {},
   "source": [
    "# Time Complexity Analysis-"
   ]
  },
  {
   "cell_type": "markdown",
   "id": "28673526",
   "metadata": {},
   "source": [
    "## Best case-\n",
    "### In the best possible case,\n",
    "* The element being searched may be found at the first position.\n",
    "* In this case, the search terminates in success with just one comparison.\n",
    "* Thus in best case, Binary search algorithm takes O(1) operations."
   ]
  },
  {
   "cell_type": "markdown",
   "id": "e0b3abd3",
   "metadata": {},
   "source": [
    "# WORST CASE BAEBEY"
   ]
  },
  {
   "cell_type": "markdown",
   "id": "def33b7e",
   "metadata": {},
   "source": [
    "* For a binary search, the best-case occurs when the target is at the end of the search list. For a binary search, the worst-case is when the target item is not in the search list."
   ]
  },
  {
   "cell_type": "code",
   "execution_count": null,
   "id": "a5e5e074",
   "metadata": {},
   "outputs": [],
   "source": []
  }
 ],
 "metadata": {
  "kernelspec": {
   "display_name": "Python 3 (ipykernel)",
   "language": "python",
   "name": "python3"
  },
  "language_info": {
   "codemirror_mode": {
    "name": "ipython",
    "version": 3
   },
   "file_extension": ".py",
   "mimetype": "text/x-python",
   "name": "python",
   "nbconvert_exporter": "python",
   "pygments_lexer": "ipython3",
   "version": "3.10.9"
  }
 },
 "nbformat": 4,
 "nbformat_minor": 5
}
