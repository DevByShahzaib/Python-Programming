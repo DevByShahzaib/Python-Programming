{
 "cells": [
  {
   "cell_type": "code",
   "execution_count": 1,
   "id": "6ca65bfa",
   "metadata": {},
   "outputs": [
    {
     "name": "stdout",
     "output_type": "stream",
     "text": [
      "enter your array size :5\n",
      "enter your array element :1\n",
      "enter your array element :2\n",
      "enter your array element :3\n",
      "enter your array element :4\n",
      "enter your array element :5\n"
     ]
    },
    {
     "data": {
      "text/plain": [
       "[1, 2, 3, 4, 5]"
      ]
     },
     "execution_count": 1,
     "metadata": {},
     "output_type": "execute_result"
    }
   ],
   "source": [
    "a = []\n",
    "size = int(input(\"enter your array size :\"))\n",
    "for i in range(size):\n",
    "    ele = int(input(\"enter your array element :\"))\n",
    "    a.append(ele)\n",
    "a"
   ]
  },
  {
   "cell_type": "code",
   "execution_count": 3,
   "id": "97956ab2",
   "metadata": {},
   "outputs": [
    {
     "name": "stdout",
     "output_type": "stream",
     "text": [
      "enter your array size :5\n",
      "enter your array element :2\n",
      "enter your array element :5\n",
      "enter your array element :7\n",
      "enter your array element :9\n",
      "enter your array element :12\n",
      "[2, 5, 7, 9, 12]\n",
      "enter value of key :9\n",
      "element found on  4\n"
     ]
    }
   ],
   "source": [
    "def LSearch(a,size,key):\n",
    "    falg = 0\n",
    "    pos = 0\n",
    "    for i in range(size):\n",
    "        if a[i] == key:\n",
    "            flag = 1\n",
    "            pos = i+1\n",
    "            break\n",
    "    if flag ==1:\n",
    "        print('element found on ',pos)\n",
    "    else:\n",
    "        print('element not found...')\n",
    "\n",
    "\n",
    "\n",
    "a = []\n",
    "size = int(input(\"enter your array size :\"))\n",
    "for i in range(size):\n",
    "    ele = int(input(\"enter your array element :\"))\n",
    "    a.append(ele)\n",
    "print(a)\n",
    "key = int(input(\"enter value of key :\"))\n",
    "LSearch(a,size,key)"
   ]
  },
  {
   "cell_type": "code",
   "execution_count": null,
   "id": "bea5d781",
   "metadata": {},
   "outputs": [],
   "source": []
  }
 ],
 "metadata": {
  "kernelspec": {
   "display_name": "Python 3 (ipykernel)",
   "language": "python",
   "name": "python3"
  },
  "language_info": {
   "codemirror_mode": {
    "name": "ipython",
    "version": 3
   },
   "file_extension": ".py",
   "mimetype": "text/x-python",
   "name": "python",
   "nbconvert_exporter": "python",
   "pygments_lexer": "ipython3",
   "version": "3.10.9"
  }
 },
 "nbformat": 4,
 "nbformat_minor": 5
}
