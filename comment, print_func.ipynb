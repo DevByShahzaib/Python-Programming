{
 "cells": [
  {
   "cell_type": "code",
   "execution_count": 1,
   "id": "0e7b9262",
   "metadata": {},
   "outputs": [
    {
     "name": "stdout",
     "output_type": "stream",
     "text": [
      "Hey I am a good boy\n"
     ]
    }
   ],
   "source": [
    "print(\"Hey I am a good boy\")"
   ]
  },
  {
   "cell_type": "code",
   "execution_count": 7,
   "id": "47229cc6",
   "metadata": {},
   "outputs": [
    {
     "name": "stdout",
     "output_type": "stream",
     "text": [
      "Hey this is a nice guy\n",
      "and he is also\n"
     ]
    }
   ],
   "source": [
    "print(\"Hey this is a nice guy\\nand he is also\")"
   ]
  },
  {
   "cell_type": "code",
   "execution_count": 9,
   "id": "3bdbb8df",
   "metadata": {},
   "outputs": [],
   "source": [
    "# this is a comment"
   ]
  },
  {
   "cell_type": "code",
   "execution_count": 10,
   "id": "81b410c2",
   "metadata": {},
   "outputs": [
    {
     "data": {
      "text/plain": [
       "'this is \\na \\nmulty\\nline comment'"
      ]
     },
     "execution_count": 10,
     "metadata": {},
     "output_type": "execute_result"
    }
   ],
   "source": [
    "\"\"\"this is \n",
    "a \n",
    "multy\n",
    "line comment\"\"\""
   ]
  },
  {
   "cell_type": "code",
   "execution_count": null,
   "id": "4c8add29",
   "metadata": {},
   "outputs": [],
   "source": []
  }
 ],
 "metadata": {
  "kernelspec": {
   "display_name": "Python 3 (ipykernel)",
   "language": "python",
   "name": "python3"
  },
  "language_info": {
   "codemirror_mode": {
    "name": "ipython",
    "version": 3
   },
   "file_extension": ".py",
   "mimetype": "text/x-python",
   "name": "python",
   "nbconvert_exporter": "python",
   "pygments_lexer": "ipython3",
   "version": "3.9.13"
  }
 },
 "nbformat": 4,
 "nbformat_minor": 5
}
