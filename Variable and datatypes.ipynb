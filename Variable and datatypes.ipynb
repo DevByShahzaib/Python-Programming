{
 "cells": [
  {
   "cell_type": "code",
   "execution_count": 1,
   "id": "fdb01f78",
   "metadata": {},
   "outputs": [],
   "source": [
    "a = 123687328497"
   ]
  },
  {
   "cell_type": "code",
   "execution_count": 2,
   "id": "801d98ca",
   "metadata": {},
   "outputs": [
    {
     "data": {
      "text/plain": [
       "123687328497"
      ]
     },
     "execution_count": 2,
     "metadata": {},
     "output_type": "execute_result"
    }
   ],
   "source": [
    "a"
   ]
  },
  {
   "cell_type": "code",
   "execution_count": 3,
   "id": "b002d041",
   "metadata": {},
   "outputs": [
    {
     "data": {
      "text/plain": [
       "'Harry'"
      ]
     },
     "execution_count": 3,
     "metadata": {},
     "output_type": "execute_result"
    }
   ],
   "source": [
    "b= \"Harry\"\n",
    "b"
   ]
  },
  {
   "cell_type": "code",
   "execution_count": 4,
   "id": "ba7e4d0a",
   "metadata": {},
   "outputs": [
    {
     "name": "stdout",
     "output_type": "stream",
     "text": [
      "9\n"
     ]
    }
   ],
   "source": [
    "harry = 9\n",
    "b = harry\n",
    "print(b)"
   ]
  },
  {
   "cell_type": "markdown",
   "id": "33f65347",
   "metadata": {},
   "source": [
    "# Data_type"
   ]
  },
  {
   "cell_type": "code",
   "execution_count": 5,
   "id": "063b83e7",
   "metadata": {},
   "outputs": [
    {
     "name": "stdout",
     "output_type": "stream",
     "text": [
      "123687328506\n"
     ]
    }
   ],
   "source": [
    "print(a+b)"
   ]
  },
  {
   "cell_type": "code",
   "execution_count": 6,
   "id": "84edb4ae",
   "metadata": {},
   "outputs": [
    {
     "ename": "TypeError",
     "evalue": "unsupported operand type(s) for +: 'int' and 'str'",
     "output_type": "error",
     "traceback": [
      "\u001b[1;31m---------------------------------------------------------------------------\u001b[0m",
      "\u001b[1;31mTypeError\u001b[0m                                 Traceback (most recent call last)",
      "\u001b[1;32m~\\AppData\\Local\\Temp\\ipykernel_7156\\33382902.py\u001b[0m in \u001b[0;36m<module>\u001b[1;34m\u001b[0m\n\u001b[1;32m----> 1\u001b[1;33m \u001b[0mprint\u001b[0m\u001b[1;33m(\u001b[0m\u001b[0mb\u001b[0m\u001b[1;33m+\u001b[0m\u001b[1;34m\"Shahzaib\"\u001b[0m\u001b[1;33m)\u001b[0m\u001b[1;33m\u001b[0m\u001b[1;33m\u001b[0m\u001b[0m\n\u001b[0m",
      "\u001b[1;31mTypeError\u001b[0m: unsupported operand type(s) for +: 'int' and 'str'"
     ]
    }
   ],
   "source": [
    "print(b+\"Shahzaib\")"
   ]
  },
  {
   "cell_type": "code",
   "execution_count": 8,
   "id": "5b7f4026",
   "metadata": {},
   "outputs": [
    {
     "name": "stdout",
     "output_type": "stream",
     "text": [
      "The type of a is  <class 'int'>\n"
     ]
    }
   ],
   "source": [
    "print(\"The type of a is \", type(a))"
   ]
  },
  {
   "cell_type": "code",
   "execution_count": 10,
   "id": "4966c278",
   "metadata": {},
   "outputs": [
    {
     "name": "stdout",
     "output_type": "stream",
     "text": [
      "<class 'str'>\n"
     ]
    }
   ],
   "source": [
    "print(type(\"SHAHZAIB\"))"
   ]
  },
  {
   "cell_type": "code",
   "execution_count": 11,
   "id": "bc98fd48",
   "metadata": {},
   "outputs": [
    {
     "data": {
      "text/plain": [
       "(3+4j)"
      ]
     },
     "execution_count": 11,
     "metadata": {},
     "output_type": "execute_result"
    }
   ],
   "source": [
    "c = complex(3,4)\n",
    "c"
   ]
  },
  {
   "cell_type": "code",
   "execution_count": 12,
   "id": "19c60d7f",
   "metadata": {},
   "outputs": [
    {
     "data": {
      "text/plain": [
       "'shahi Libas'"
      ]
     },
     "execution_count": 12,
     "metadata": {},
     "output_type": "execute_result"
    }
   ],
   "source": [
    "_list = [1,2,3,4]\n",
    "_tuple = (2,)\n",
    "_dic = {\"Shahzaib\":\"shahi Libas\", \"Khan\":\"Pathan\"}"
   ]
  },
  {
   "cell_type": "code",
   "execution_count": null,
   "id": "6fd1fa35",
   "metadata": {},
   "outputs": [],
   "source": []
  }
 ],
 "metadata": {
  "kernelspec": {
   "display_name": "Python 3 (ipykernel)",
   "language": "python",
   "name": "python3"
  },
  "language_info": {
   "codemirror_mode": {
    "name": "ipython",
    "version": 3
   },
   "file_extension": ".py",
   "mimetype": "text/x-python",
   "name": "python",
   "nbconvert_exporter": "python",
   "pygments_lexer": "ipython3",
   "version": "3.9.13"
  }
 },
 "nbformat": 4,
 "nbformat_minor": 5
}
