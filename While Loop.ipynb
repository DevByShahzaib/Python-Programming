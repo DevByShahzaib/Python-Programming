{
 "cells": [
  {
   "cell_type": "code",
   "execution_count": null,
   "id": "5b1d3463",
   "metadata": {},
   "outputs": [],
   "source": [
    "i = 0\n",
    "while (i<10):\n",
    "    print(i+1)\n",
    "    i += 1"
   ]
  },
  {
   "cell_type": "code",
   "execution_count": null,
   "id": "0853371f",
   "metadata": {},
   "outputs": [],
   "source": [
    "i = int(input(\"Enter  value of i :\"))\n",
    "while i<=30:\n",
    "    i = int(input(\"Enter  value of i :\"))\n",
    "    print(i)"
   ]
  },
  {
   "cell_type": "code",
   "execution_count": 2,
   "id": "74f76cd0",
   "metadata": {},
   "outputs": [],
   "source": [
    "c = 5\n",
    "while (c > 5):\n",
    "    print(c)\n",
    "    c-=1"
   ]
  },
  {
   "cell_type": "markdown",
   "id": "9d0ca629",
   "metadata": {},
   "source": []
  }
 ],
 "metadata": {
  "kernelspec": {
   "display_name": "Python 3 (ipykernel)",
   "language": "python",
   "name": "python3"
  },
  "language_info": {
   "codemirror_mode": {
    "name": "ipython",
    "version": 3
   },
   "file_extension": ".py",
   "mimetype": "text/x-python",
   "name": "python",
   "nbconvert_exporter": "python",
   "pygments_lexer": "ipython3",
   "version": "3.9.13"
  }
 },
 "nbformat": 4,
 "nbformat_minor": 5
}
