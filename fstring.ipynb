{
 "cells": [
  {
   "cell_type": "code",
   "execution_count": 1,
   "id": "5960d338",
   "metadata": {},
   "outputs": [
    {
     "name": "stdout",
     "output_type": "stream",
     "text": [
      "My name is Shahzaib and I am from Pakistan\n"
     ]
    }
   ],
   "source": [
    "name = \"Shahzaib\"\n",
    "country = \"Pakistan\"\n",
    "print(f\"My name is {name} and I am from {country}\")"
   ]
  },
  {
   "cell_type": "code",
   "execution_count": 4,
   "id": "05a81595",
   "metadata": {},
   "outputs": [
    {
     "name": "stdout",
     "output_type": "stream",
     "text": [
      "For only 49.10\n"
     ]
    }
   ],
   "source": [
    "price = 49.0999\n",
    "print(f\"For only {price:.2f}\")    #   :.2f => refers to 2 decimal places"
   ]
  },
  {
   "cell_type": "code",
   "execution_count": null,
   "id": "4d92ff0e",
   "metadata": {},
   "outputs": [],
   "source": []
  }
 ],
 "metadata": {
  "kernelspec": {
   "display_name": "Python 3 (ipykernel)",
   "language": "python",
   "name": "python3"
  },
  "language_info": {
   "codemirror_mode": {
    "name": "ipython",
    "version": 3
   },
   "file_extension": ".py",
   "mimetype": "text/x-python",
   "name": "python",
   "nbconvert_exporter": "python",
   "pygments_lexer": "ipython3",
   "version": "3.9.13"
  }
 },
 "nbformat": 4,
 "nbformat_minor": 5
}
