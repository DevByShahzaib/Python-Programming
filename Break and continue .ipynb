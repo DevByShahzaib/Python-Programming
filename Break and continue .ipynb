{
 "cells": [
  {
   "cell_type": "code",
   "execution_count": 8,
   "id": "a6732945",
   "metadata": {},
   "outputs": [
    {
     "name": "stdout",
     "output_type": "stream",
     "text": [
      "5 x  1  =  5\n",
      "5 x  2  =  10\n",
      "5 x  3  =  15\n",
      "5 x  4  =  20\n",
      "5 x  5  =  25\n",
      "5 x  6  =  30\n",
      "5 x  7  =  35\n",
      "5 x  8  =  40\n",
      "5 x  9  =  45\n",
      "5 x  10  =  50\n"
     ]
    }
   ],
   "source": [
    "for i in range(1,12):\n",
    "    if (i==11):\n",
    "        break\n",
    "    print(\"5 x \",i, \" = \",5*i)"
   ]
  },
  {
   "cell_type": "code",
   "execution_count": 5,
   "id": "b8590e73",
   "metadata": {},
   "outputs": [
    {
     "name": "stdout",
     "output_type": "stream",
     "text": [
      "123\n"
     ]
    }
   ],
   "source": [
    "print(123)"
   ]
  },
  {
   "cell_type": "code",
   "execution_count": 10,
   "id": "26b68559",
   "metadata": {},
   "outputs": [
    {
     "name": "stdout",
     "output_type": "stream",
     "text": [
      "5 x  0  =  0\n",
      "5 x  1  =  5\n",
      "5 x  2  =  10\n",
      "5 x  3  =  15\n",
      "5 x  4  =  20\n",
      "5 x  5  =  25\n",
      "5 x  6  =  30\n",
      "5 x  7  =  35\n",
      "5 x  8  =  40\n",
      "5 x  9  =  45\n",
      "Skip the iteration\n",
      "5 x  11  =  55\n"
     ]
    }
   ],
   "source": [
    "for i in range(12):\n",
    "    if (i==10):\n",
    "        print(\"Skip the iteration\")\n",
    "        continue\n",
    "    print(\"5 x \",i, \" = \",5*i)"
   ]
  },
  {
   "cell_type": "code",
   "execution_count": null,
   "id": "8e814a6b",
   "metadata": {},
   "outputs": [],
   "source": []
  }
 ],
 "metadata": {
  "kernelspec": {
   "display_name": "Python 3 (ipykernel)",
   "language": "python",
   "name": "python3"
  },
  "language_info": {
   "codemirror_mode": {
    "name": "ipython",
    "version": 3
   },
   "file_extension": ".py",
   "mimetype": "text/x-python",
   "name": "python",
   "nbconvert_exporter": "python",
   "pygments_lexer": "ipython3",
   "version": "3.9.13"
  }
 },
 "nbformat": 4,
 "nbformat_minor": 5
}
