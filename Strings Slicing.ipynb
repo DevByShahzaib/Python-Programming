{
 "cells": [
  {
   "cell_type": "code",
   "execution_count": 1,
   "id": "1ee18621",
   "metadata": {},
   "outputs": [
    {
     "data": {
      "text/plain": [
       "'ShahzaibSufyanSultan'"
      ]
     },
     "execution_count": 1,
     "metadata": {},
     "output_type": "execute_result"
    }
   ],
   "source": [
    "names = \"ShahzaibSufyanSultan\"\n",
    "names[0:]"
   ]
  },
  {
   "cell_type": "code",
   "execution_count": 5,
   "id": "84f03ad1",
   "metadata": {},
   "outputs": [
    {
     "data": {
      "text/plain": [
       "'Shahzaib'"
      ]
     },
     "execution_count": 5,
     "metadata": {},
     "output_type": "execute_result"
    }
   ],
   "source": [
    "names[0:8]"
   ]
  },
  {
   "cell_type": "code",
   "execution_count": 9,
   "id": "99fd8afb",
   "metadata": {},
   "outputs": [
    {
     "data": {
      "text/plain": [
       "'Sufyan'"
      ]
     },
     "execution_count": 9,
     "metadata": {},
     "output_type": "execute_result"
    }
   ],
   "source": [
    "names[8:14]"
   ]
  },
  {
   "cell_type": "code",
   "execution_count": 10,
   "id": "bac03881",
   "metadata": {},
   "outputs": [
    {
     "data": {
      "text/plain": [
       "'Sultan'"
      ]
     },
     "execution_count": 10,
     "metadata": {},
     "output_type": "execute_result"
    }
   ],
   "source": [
    "names[14:]"
   ]
  },
  {
   "cell_type": "code",
   "execution_count": 11,
   "id": "41599f33",
   "metadata": {},
   "outputs": [
    {
     "data": {
      "text/plain": [
       "1"
      ]
     },
     "execution_count": 11,
     "metadata": {},
     "output_type": "execute_result"
    }
   ],
   "source": [
    "names.index(\"hah\")"
   ]
  },
  {
   "cell_type": "code",
   "execution_count": 12,
   "id": "d7f99ec2",
   "metadata": {},
   "outputs": [
    {
     "data": {
      "text/plain": [
       "4"
      ]
     },
     "execution_count": 12,
     "metadata": {},
     "output_type": "execute_result"
    }
   ],
   "source": [
    "names.index(\"zaib\")"
   ]
  },
  {
   "cell_type": "code",
   "execution_count": 13,
   "id": "7f7b3bca",
   "metadata": {},
   "outputs": [
    {
     "data": {
      "text/plain": [
       "20"
      ]
     },
     "execution_count": 13,
     "metadata": {},
     "output_type": "execute_result"
    }
   ],
   "source": [
    "len(names)"
   ]
  },
  {
   "cell_type": "code",
   "execution_count": 15,
   "id": "64084839",
   "metadata": {},
   "outputs": [
    {
     "data": {
      "text/plain": [
       "'ShahzaibSufyanSultan'"
      ]
     },
     "execution_count": 15,
     "metadata": {},
     "output_type": "execute_result"
    }
   ],
   "source": [
    "names[:]"
   ]
  },
  {
   "cell_type": "code",
   "execution_count": 18,
   "id": "4b07cc15",
   "metadata": {},
   "outputs": [
    {
     "data": {
      "text/plain": [
       "'ShahzaibSufyanSulta'"
      ]
     },
     "execution_count": 18,
     "metadata": {},
     "output_type": "execute_result"
    }
   ],
   "source": [
    "names[0:-1]"
   ]
  },
  {
   "cell_type": "code",
   "execution_count": null,
   "id": "879ca120",
   "metadata": {},
   "outputs": [],
   "source": []
  }
 ],
 "metadata": {
  "kernelspec": {
   "display_name": "Python 3 (ipykernel)",
   "language": "python",
   "name": "python3"
  },
  "language_info": {
   "codemirror_mode": {
    "name": "ipython",
    "version": 3
   },
   "file_extension": ".py",
   "mimetype": "text/x-python",
   "name": "python",
   "nbconvert_exporter": "python",
   "pygments_lexer": "ipython3",
   "version": "3.9.13"
  }
 },
 "nbformat": 4,
 "nbformat_minor": 5
}
