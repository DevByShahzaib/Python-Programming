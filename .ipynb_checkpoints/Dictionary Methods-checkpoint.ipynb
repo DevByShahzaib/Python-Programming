{
 "cells": [
  {
   "cell_type": "code",
   "execution_count": 4,
   "id": "4ea03772",
   "metadata": {},
   "outputs": [],
   "source": [
    "ep1 = {\n",
    "    122:45,\n",
    "    123:89,\n",
    "    567:69,\n",
    "    670:69\n",
    "}\n",
    "ep2 = {\n",
    "    222:67,\n",
    "    566:90\n",
    "}\n",
    "ep1.update(ep2)\n"
   ]
  },
  {
   "cell_type": "code",
   "execution_count": 5,
   "id": "6502d6f4",
   "metadata": {},
   "outputs": [
    {
     "data": {
      "text/plain": [
       "{122: 45, 123: 89, 567: 69, 670: 69, 222: 67, 566: 90}"
      ]
     },
     "execution_count": 5,
     "metadata": {},
     "output_type": "execute_result"
    }
   ],
   "source": [
    "ep1"
   ]
  },
  {
   "cell_type": "code",
   "execution_count": 6,
   "id": "23b82fe0",
   "metadata": {},
   "outputs": [
    {
     "data": {
      "text/plain": [
       "{123: 89, 567: 69, 670: 69, 222: 67, 566: 90}"
      ]
     },
     "execution_count": 6,
     "metadata": {},
     "output_type": "execute_result"
    }
   ],
   "source": [
    "ep1.pop(122) # remove specific item from dictionary\n",
    "ep1"
   ]
  },
  {
   "cell_type": "code",
   "execution_count": 7,
   "id": "e42c3ed2",
   "metadata": {},
   "outputs": [
    {
     "data": {
      "text/plain": [
       "(566, 90)"
      ]
     },
     "execution_count": 7,
     "metadata": {},
     "output_type": "execute_result"
    }
   ],
   "source": [
    "ep1.popitem() # removes last item from dictionary"
   ]
  },
  {
   "cell_type": "code",
   "execution_count": 8,
   "id": "dd9ce6fb",
   "metadata": {},
   "outputs": [
    {
     "data": {
      "text/plain": [
       "{123: 89, 567: 69, 670: 69, 222: 67}"
      ]
     },
     "execution_count": 8,
     "metadata": {},
     "output_type": "execute_result"
    }
   ],
   "source": [
    "ep1"
   ]
  },
  {
   "cell_type": "code",
   "execution_count": 9,
   "id": "1debf623",
   "metadata": {},
   "outputs": [
    {
     "data": {
      "text/plain": [
       "{567: 69, 670: 69, 222: 67}"
      ]
     },
     "execution_count": 9,
     "metadata": {},
     "output_type": "execute_result"
    }
   ],
   "source": [
    "del ep1[123] # delete key from dictionary\n",
    "ep1"
   ]
  },
  {
   "cell_type": "code",
   "execution_count": 3,
   "id": "74adb7d5",
   "metadata": {},
   "outputs": [
    {
     "data": {
      "text/plain": [
       "{}"
      ]
     },
     "execution_count": 3,
     "metadata": {},
     "output_type": "execute_result"
    }
   ],
   "source": [
    "ep1.clear() # clear all the items from dictionary\n",
    "ep1"
   ]
  },
  {
   "cell_type": "code",
   "execution_count": null,
   "id": "87c8de75",
   "metadata": {},
   "outputs": [],
   "source": []
  }
 ],
 "metadata": {
  "kernelspec": {
   "display_name": "Python 3 (ipykernel)",
   "language": "python",
   "name": "python3"
  },
  "language_info": {
   "codemirror_mode": {
    "name": "ipython",
    "version": 3
   },
   "file_extension": ".py",
   "mimetype": "text/x-python",
   "name": "python",
   "nbconvert_exporter": "python",
   "pygments_lexer": "ipython3",
   "version": "3.9.13"
  }
 },
 "nbformat": 4,
 "nbformat_minor": 5
}
