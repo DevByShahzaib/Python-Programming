{
 "cells": [
  {
   "cell_type": "markdown",
   "id": "9dab3ee8",
   "metadata": {},
   "source": [
    "# Agr hamary pas ek file hai jisse meny dusri jga import krdiya to us file ka sb kuch waha import hojaega"
   ]
  },
  {
   "cell_type": "markdown",
   "id": "d74ecea6",
   "metadata": {},
   "source": [
    "# That's why hum  --------   if __name__ == \"__main__\"  use krengy ----------"
   ]
  },
  {
   "cell_type": "code",
   "execution_count": null,
   "id": "ca1b928f",
   "metadata": {},
   "outputs": [],
   "source": [
    "if __name__ == \"\""
   ]
  }
 ],
 "metadata": {
  "kernelspec": {
   "display_name": "Python 3 (ipykernel)",
   "language": "python",
   "name": "python3"
  },
  "language_info": {
   "codemirror_mode": {
    "name": "ipython",
    "version": 3
   },
   "file_extension": ".py",
   "mimetype": "text/x-python",
   "name": "python",
   "nbconvert_exporter": "python",
   "pygments_lexer": "ipython3",
   "version": "3.9.13"
  }
 },
 "nbformat": 4,
 "nbformat_minor": 5
}
