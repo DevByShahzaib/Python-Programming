{
 "cells": [
  {
   "cell_type": "code",
   "execution_count": 1,
   "id": "e61d6d28",
   "metadata": {},
   "outputs": [],
   "source": [
    "import time"
   ]
  },
  {
   "cell_type": "code",
   "execution_count": 4,
   "id": "509325f7",
   "metadata": {},
   "outputs": [
    {
     "name": "stdout",
     "output_type": "stream",
     "text": [
      "20:55:24\n"
     ]
    }
   ],
   "source": [
    "timestamp = time.strftime('%H:%M:%S')\n",
    "print(timestamp)"
   ]
  },
  {
   "cell_type": "code",
   "execution_count": 9,
   "id": "1f22d95a",
   "metadata": {},
   "outputs": [
    {
     "name": "stdout",
     "output_type": "stream",
     "text": [
      "20\n",
      "59\n",
      "21\n"
     ]
    }
   ],
   "source": [
    "print(int(time.strftime('%H')))\n",
    "print(int(time.strftime('%M')))\n",
    "print(int(time.strftime('%S')))"
   ]
  },
  {
   "cell_type": "code",
   "execution_count": null,
   "id": "a53912ab",
   "metadata": {},
   "outputs": [],
   "source": []
  }
 ],
 "metadata": {
  "kernelspec": {
   "display_name": "Python 3 (ipykernel)",
   "language": "python",
   "name": "python3"
  },
  "language_info": {
   "codemirror_mode": {
    "name": "ipython",
    "version": 3
   },
   "file_extension": ".py",
   "mimetype": "text/x-python",
   "name": "python",
   "nbconvert_exporter": "python",
   "pygments_lexer": "ipython3",
   "version": "3.9.13"
  }
 },
 "nbformat": 4,
 "nbformat_minor": 5
}
