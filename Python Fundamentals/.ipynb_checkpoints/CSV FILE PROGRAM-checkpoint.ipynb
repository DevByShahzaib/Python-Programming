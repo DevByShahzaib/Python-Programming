{
 "cells": [
  {
   "cell_type": "markdown",
   "id": "a0f51502",
   "metadata": {},
   "source": [
    "# Read CSV file\n",
    " 1) Find Average of Chemistry marks"
   ]
  },
  {
   "cell_type": "code",
   "execution_count": 7,
   "id": "5f83782f",
   "metadata": {},
   "outputs": [],
   "source": [
    "import csv\n",
    "openFile = open('Data.csv')\n",
    "readFile = csv.reader(openFile)\n",
    "dataset = list(readFile)"
   ]
  },
  {
   "cell_type": "code",
   "execution_count": 8,
   "id": "c3efb595",
   "metadata": {},
   "outputs": [
    {
     "data": {
      "text/plain": [
       "[['ï»¿Name', 'physics', 'Chemistry', 'Maths'],\n",
       " ['Shahzaib ', '56', '67', '45'],\n",
       " ['Sufyan', '60', '49', '55'],\n",
       " ['Rafay', '62', '56', '77'],\n",
       " ['Shahzaib ', '56', '67', '45'],\n",
       " ['Sufyan', '60', '49', '55'],\n",
       " ['Rafay', '62', '56', '77'],\n",
       " ['Shahzaib ', '56', '67', '45'],\n",
       " ['Sufyan', '60', '49', '55'],\n",
       " ['Rafay', '62', '56', '77'],\n",
       " ['Shahzaib ', '56', '67', '45'],\n",
       " ['Sufyan', '60', '49', '55'],\n",
       " ['Rafay', '62', '56', '77'],\n",
       " ['Shahzaib ', '56', '67', '45'],\n",
       " ['Sufyan', '60', '49', '55'],\n",
       " ['Rafay', '62', '56', '77']]"
      ]
     },
     "execution_count": 8,
     "metadata": {},
     "output_type": "execute_result"
    }
   ],
   "source": [
    "dataset"
   ]
  },
  {
   "cell_type": "code",
   "execution_count": 9,
   "id": "b3f4109e",
   "metadata": {},
   "outputs": [
    {
     "data": {
      "text/plain": [
       "'Chemistry'"
      ]
     },
     "execution_count": 9,
     "metadata": {},
     "output_type": "execute_result"
    }
   ],
   "source": [
    "dataset[0][2]"
   ]
  },
  {
   "cell_type": "code",
   "execution_count": 12,
   "id": "36af9915",
   "metadata": {},
   "outputs": [
    {
     "data": {
      "text/plain": [
       "2"
      ]
     },
     "execution_count": 12,
     "metadata": {},
     "output_type": "execute_result"
    }
   ],
   "source": [
    "dataset[0].index(\"Chemistry\")"
   ]
  },
  {
   "cell_type": "code",
   "execution_count": 16,
   "id": "2593485e",
   "metadata": {},
   "outputs": [
    {
     "name": "stdout",
     "output_type": "stream",
     "text": [
      "<class 'str'>\n",
      "<class 'str'>\n",
      "<class 'str'>\n",
      "<class 'str'>\n",
      "<class 'str'>\n",
      "<class 'str'>\n",
      "<class 'str'>\n",
      "<class 'str'>\n",
      "<class 'str'>\n",
      "<class 'str'>\n",
      "<class 'str'>\n",
      "<class 'str'>\n",
      "<class 'str'>\n",
      "<class 'str'>\n",
      "<class 'str'>\n"
     ]
    }
   ],
   "source": [
    "for i in dataset[1:]:\n",
    "    print(type(i[2]))\n",
    "    "
   ]
  },
  {
   "cell_type": "code",
   "execution_count": 21,
   "id": "098f8880",
   "metadata": {},
   "outputs": [
    {
     "name": "stdout",
     "output_type": "stream",
     "text": [
      "<class 'int'>\n",
      "<class 'int'>\n",
      "<class 'int'>\n",
      "<class 'int'>\n",
      "<class 'int'>\n",
      "<class 'int'>\n",
      "<class 'int'>\n",
      "<class 'int'>\n",
      "<class 'int'>\n",
      "<class 'int'>\n",
      "<class 'int'>\n",
      "<class 'int'>\n",
      "<class 'int'>\n",
      "<class 'int'>\n",
      "<class 'int'>\n"
     ]
    }
   ],
   "source": [
    "for i in dataset[1:]:\n",
    "    chem = int(i[2])\n",
    "    print(type(chem))"
   ]
  },
  {
   "cell_type": "code",
   "execution_count": 25,
   "id": "26c9eb9d",
   "metadata": {},
   "outputs": [],
   "source": [
    "marks_chem = []\n",
    "for i in dataset[1:]:\n",
    "    chem = int(i[2])\n",
    "    marks_chem.append(chem)"
   ]
  },
  {
   "cell_type": "code",
   "execution_count": 27,
   "id": "15a028fb",
   "metadata": {},
   "outputs": [
    {
     "data": {
      "text/plain": [
       "[67, 49, 56, 67, 49, 56, 67, 49, 56, 67, 49, 56, 67, 49, 56]"
      ]
     },
     "execution_count": 27,
     "metadata": {},
     "output_type": "execute_result"
    }
   ],
   "source": [
    "marks_chem"
   ]
  },
  {
   "cell_type": "code",
   "execution_count": 72,
   "id": "a336c1d0",
   "metadata": {},
   "outputs": [
    {
     "data": {
      "text/plain": [
       "57.333333333333336"
      ]
     },
     "execution_count": 72,
     "metadata": {},
     "output_type": "execute_result"
    }
   ],
   "source": [
    "avg_chem = sum(marks_chem)/len(marks_chem)\n",
    "avg_chem    "
   ]
  },
  {
   "cell_type": "markdown",
   "id": "f2bf79e6",
   "metadata": {},
   "source": [
    "# Find average of Physics Marks"
   ]
  },
  {
   "cell_type": "code",
   "execution_count": 100,
   "id": "94c3ad37",
   "metadata": {},
   "outputs": [
    {
     "data": {
      "text/plain": [
       "59.333333333333336"
      ]
     },
     "execution_count": 100,
     "metadata": {},
     "output_type": "execute_result"
    }
   ],
   "source": [
    "marks_phy = []\n",
    "for i in dataset[1:]:\n",
    "    phy = int(i[1])\n",
    "    marks_phy.append(phy)\n",
    "avg_phy = sum(marks_phy)/len(marks_phy)\n",
    "avg_phy\n",
    "    "
   ]
  },
  {
   "cell_type": "markdown",
   "id": "5281929b",
   "metadata": {},
   "source": [
    "# Avg marks of Maths"
   ]
  },
  {
   "cell_type": "code",
   "execution_count": 9,
   "id": "f4a2e4ae",
   "metadata": {},
   "outputs": [
    {
     "data": {
      "text/plain": [
       "59.0"
      ]
     },
     "execution_count": 9,
     "metadata": {},
     "output_type": "execute_result"
    }
   ],
   "source": [
    "marks_math = []\n",
    "for j in dataset[1:]:\n",
    "    math = int(j[3])\n",
    "    marks_math.append(math)\n",
    "avg_maths = sum(marks_math)/len(marks_math)\n",
    "avg_maths"
   ]
  },
  {
   "cell_type": "markdown",
   "id": "3c5d49ff",
   "metadata": {},
   "source": [
    "# adding % in real enviroment "
   ]
  },
  {
   "cell_type": "code",
   "execution_count": 26,
   "id": "2fc3e3c8",
   "metadata": {},
   "outputs": [
    {
     "data": {
      "text/plain": [
       "[['ï»¿Name', 'physics', 'Chemistry', 'Maths', 'Percentage', 'Percentage'],\n",
       " ['Shahzaib ', '56', '67', '45'],\n",
       " ['Sufyan', '60', '49', '55'],\n",
       " ['Rafay', '62', '56', '77'],\n",
       " ['Shahzaib ', '56', '67', '45'],\n",
       " ['Sufyan', '60', '49', '55'],\n",
       " ['Rafay', '62', '56', '77'],\n",
       " ['Shahzaib ', '56', '67', '45'],\n",
       " ['Sufyan', '60', '49', '55'],\n",
       " ['Rafay', '62', '56', '77'],\n",
       " ['Shahzaib ', '56', '67', '45'],\n",
       " ['Sufyan', '60', '49', '55'],\n",
       " ['Rafay', '62', '56', '77'],\n",
       " ['Shahzaib ', '56', '67', '45'],\n",
       " ['Sufyan', '60', '49', '55'],\n",
       " ['Rafay', '62', '56', '77']]"
      ]
     },
     "execution_count": 26,
     "metadata": {},
     "output_type": "execute_result"
    }
   ],
   "source": [
    "dataset"
   ]
  },
  {
   "cell_type": "code",
   "execution_count": 27,
   "id": "4f5a4d87",
   "metadata": {},
   "outputs": [],
   "source": [
    "for i in dataset[1:]:\n",
    "    phy = int(i[1])\n",
    "    chem = int(i[2])\n",
    "    maths = int(i[3]) \n",
    "    percentage =(maths+phy+chem) / 300 * 100\n",
    "#     print(percentage)\n",
    "    i.append(percentage)"
   ]
  },
  {
   "cell_type": "code",
   "execution_count": 28,
   "id": "f860a9ff",
   "metadata": {},
   "outputs": [
    {
     "data": {
      "text/plain": [
       "[['ï»¿Name', 'physics', 'Chemistry', 'Maths', 'Percentage', 'Percentage'],\n",
       " ['Shahzaib ', '56', '67', '45', 56.00000000000001],\n",
       " ['Sufyan', '60', '49', '55', 54.666666666666664],\n",
       " ['Rafay', '62', '56', '77', 65.0],\n",
       " ['Shahzaib ', '56', '67', '45', 56.00000000000001],\n",
       " ['Sufyan', '60', '49', '55', 54.666666666666664],\n",
       " ['Rafay', '62', '56', '77', 65.0],\n",
       " ['Shahzaib ', '56', '67', '45', 56.00000000000001],\n",
       " ['Sufyan', '60', '49', '55', 54.666666666666664],\n",
       " ['Rafay', '62', '56', '77', 65.0],\n",
       " ['Shahzaib ', '56', '67', '45', 56.00000000000001],\n",
       " ['Sufyan', '60', '49', '55', 54.666666666666664],\n",
       " ['Rafay', '62', '56', '77', 65.0],\n",
       " ['Shahzaib ', '56', '67', '45', 56.00000000000001],\n",
       " ['Sufyan', '60', '49', '55', 54.666666666666664],\n",
       " ['Rafay', '62', '56', '77', 65.0]]"
      ]
     },
     "execution_count": 28,
     "metadata": {},
     "output_type": "execute_result"
    }
   ],
   "source": [
    "dataset"
   ]
  }
 ],
 "metadata": {
  "kernelspec": {
   "display_name": "Python 3 (ipykernel)",
   "language": "python",
   "name": "python3"
  },
  "language_info": {
   "codemirror_mode": {
    "name": "ipython",
    "version": 3
   },
   "file_extension": ".py",
   "mimetype": "text/x-python",
   "name": "python",
   "nbconvert_exporter": "python",
   "pygments_lexer": "ipython3",
   "version": "3.9.13"
  }
 },
 "nbformat": 4,
 "nbformat_minor": 5
}
