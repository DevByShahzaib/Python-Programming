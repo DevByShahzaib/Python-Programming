{
 "cells": [
  {
   "cell_type": "markdown",
   "id": "1c220290",
   "metadata": {},
   "source": [
    "print(\"Shahzaib Khan\")\n"
   ]
  },
  {
   "cell_type": "code",
   "execution_count": null,
   "id": "d1f924fd",
   "metadata": {},
   "outputs": [],
   "source": []
  },
  {
   "cell_type": "markdown",
   "id": "0d113a24",
   "metadata": {},
   "source": []
  },
  {
   "cell_type": "markdown",
   "id": "41dafe05",
   "metadata": {},
   "source": [
    "# Shahzaib Khan\n",
    "* khan jee"
   ]
  },
  {
   "cell_type": "code",
   "execution_count": 2,
   "id": "262a8c93",
   "metadata": {},
   "outputs": [
    {
     "name": "stdout",
     "output_type": "stream",
     "text": [
      "2222\n"
     ]
    }
   ],
   "source": [
    "print(2222)"
   ]
  },
  {
   "cell_type": "code",
   "execution_count": null,
   "id": "f0b73475",
   "metadata": {},
   "outputs": [],
   "source": []
  }
 ],
 "metadata": {
  "kernelspec": {
   "display_name": "Python 3 (ipykernel)",
   "language": "python",
   "name": "python3"
  },
  "language_info": {
   "codemirror_mode": {
    "name": "ipython",
    "version": 3
   },
   "file_extension": ".py",
   "mimetype": "text/x-python",
   "name": "python",
   "nbconvert_exporter": "python",
   "pygments_lexer": "ipython3",
   "version": "3.9.13"
  }
 },
 "nbformat": 4,
 "nbformat_minor": 5
}
