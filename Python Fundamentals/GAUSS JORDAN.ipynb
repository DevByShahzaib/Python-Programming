{
 "cells": [
  {
   "cell_type": "code",
   "execution_count": 14,
   "id": "2f2432e5",
   "metadata": {},
   "outputs": [
    {
     "name": "stdout",
     "output_type": "stream",
     "text": [
      "Enter no. of rows : 3\n",
      "Enter no. of cols : 4\n",
      "enter an elements : 5\n",
      "enter an elements : 8\n",
      "enter an elements : 4\n",
      "enter an elements : 33\n",
      "enter an elements : 2\n",
      "enter an elements : 5\n",
      "enter an elements : 3\n",
      "enter an elements : 45\n",
      "enter an elements : 6\n",
      "enter an elements : 8\n",
      "enter an elements : 3\n",
      "enter an elements : 66\n",
      "[[1.0, 0.0, 0.0, -9.933333333333309], [0.0, 1.0, 0.0, -28.30666666666671], [-0.0, -0.0, 1.0, 77.28000000000006]]\n"
     ]
    }
   ],
   "source": [
    "n_o_r = int(input(\"Enter no. of rows : \"))\n",
    "n_o_c = int(input(\"Enter no. of cols : \"))\n",
    "data = []\n",
    "for rows in range(n_o_r):\n",
    "    l = []\n",
    "    for cols in range(n_o_c):\n",
    "        element = int(input(\"enter an elements : \"))\n",
    "        l.append(element)\n",
    "    data.append(l)\n",
    "pivot = data[0][0]\n",
    "for i in range(n_o_c):\n",
    "    data[0][i] = data[0][i]/pivot\n",
    "# print(data)\n",
    "\n",
    "\n",
    "for i in range(n_o_r):\n",
    "    if i == 0 :\n",
    "        continue\n",
    "    fix = data[i][0]\n",
    "    for j in range(n_o_c):\n",
    "        data[i][j] = data[i][j] - fix*data[0][j]       \n",
    "# print(data)\n",
    "\n",
    "pivot_2 = data[1][1]\n",
    "for i in range(n_o_r):\n",
    "    data[1][i] = data[1][i]/pivot_2\n",
    "    \n",
    "# print(data)\n",
    "\n",
    "for i in range(n_o_r):\n",
    "    if i == 1 :\n",
    "        continue\n",
    "    fix = data[i][1]\n",
    "    for j in range(n_o_c):\n",
    "        data[i][j] = data[i][j] - fix*data[1][j]\n",
    "# print(data)\n",
    "\n",
    "pivot_3 = data[2][2]\n",
    "for i in range(n_o_r):\n",
    "    data[2][i] = data[2][i]/pivot_3\n",
    "# print(data)\n",
    "    \n",
    "for i in range(n_o_r):\n",
    "    if i == 2 :\n",
    "        continue\n",
    "    fix = data[i][2]\n",
    "    for j in range(n_o_c):\n",
    "        data[i][j] = data[i][j] - fix*data[2][j]\n",
    "print(data)\n",
    "\n",
    "        "
   ]
  }
 ],
 "metadata": {
  "kernelspec": {
   "display_name": "Python 3 (ipykernel)",
   "language": "python",
   "name": "python3"
  },
  "language_info": {
   "codemirror_mode": {
    "name": "ipython",
    "version": 3
   },
   "file_extension": ".py",
   "mimetype": "text/x-python",
   "name": "python",
   "nbconvert_exporter": "python",
   "pygments_lexer": "ipython3",
   "version": "3.9.13"
  }
 },
 "nbformat": 4,
 "nbformat_minor": 5
}
