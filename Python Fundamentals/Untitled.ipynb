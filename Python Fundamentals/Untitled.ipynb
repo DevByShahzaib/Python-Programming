{
 "cells": [
  {
   "cell_type": "code",
   "execution_count": 4,
   "id": "76d9c748",
   "metadata": {},
   "outputs": [
    {
     "name": "stdout",
     "output_type": "stream",
     "text": [
      "mamu 11\n"
     ]
    }
   ],
   "source": [
    "def func(a,b,c):\n",
    "    print(a,b+c)\n",
    "    \n",
    "    \n",
    "# a = \"mamu\"\n",
    "# b = 5\n",
    "# c = 7\n",
    "func(\"mamu\",5,6)"
   ]
  }
 ],
 "metadata": {
  "kernelspec": {
   "display_name": "Python 3 (ipykernel)",
   "language": "python",
   "name": "python3"
  },
  "language_info": {
   "codemirror_mode": {
    "name": "ipython",
    "version": 3
   },
   "file_extension": ".py",
   "mimetype": "text/x-python",
   "name": "python",
   "nbconvert_exporter": "python",
   "pygments_lexer": "ipython3",
   "version": "3.9.13"
  }
 },
 "nbformat": 4,
 "nbformat_minor": 5
}
