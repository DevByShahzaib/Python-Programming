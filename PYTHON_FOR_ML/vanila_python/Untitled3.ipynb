{
 "cells": [
  {
   "cell_type": "code",
   "execution_count": 10,
   "id": "f6e31351",
   "metadata": {},
   "outputs": [
    {
     "data": {
      "text/plain": [
       "16"
      ]
     },
     "execution_count": 10,
     "metadata": {},
     "output_type": "execute_result"
    }
   ],
   "source": [
    "class Exp:\n",
    "    def __init__(self,n):\n",
    "        self.n = n\n",
    "    def __pow__(self,other):\n",
    "        return self.n**other.n\n",
    "    \n",
    "    \n",
    "    \n",
    "s = Exp(2)\n",
    "y = Exp(4)\n",
    "s**y"
   ]
  },
  {
   "cell_type": "code",
   "execution_count": null,
   "id": "59991b1b",
   "metadata": {},
   "outputs": [],
   "source": []
  }
 ],
 "metadata": {
  "kernelspec": {
   "display_name": "Python 3 (ipykernel)",
   "language": "python",
   "name": "python3"
  },
  "language_info": {
   "codemirror_mode": {
    "name": "ipython",
    "version": 3
   },
   "file_extension": ".py",
   "mimetype": "text/x-python",
   "name": "python",
   "nbconvert_exporter": "python",
   "pygments_lexer": "ipython3",
   "version": "3.10.9"
  }
 },
 "nbformat": 4,
 "nbformat_minor": 5
}
