{
 "cells": [
  {
   "cell_type": "markdown",
   "id": "6ada5cc2",
   "metadata": {},
   "source": [
    "`NOTHING IN PYTHON IS TRUELY PRIVATE`\n"
   ]
  },
  {
   "cell_type": "markdown",
   "id": "d2edbf60",
   "metadata": {},
   "source": [
    "`WE CAN ACCESS ANY DATA BY USING _className__dataName/methodName`"
   ]
  },
  {
   "cell_type": "markdown",
   "id": "cd7c0f0b",
   "metadata": {},
   "source": [
    "`WE CAN CREATE GETTER AND SETTER METHOD `"
   ]
  },
  {
   "cell_type": "code",
   "execution_count": 28,
   "id": "e96c00d3",
   "metadata": {},
   "outputs": [
    {
     "name": "stdout",
     "output_type": "stream",
     "text": [
      "\n",
      "                        Hello, How would you like to proceed?\n",
      "                        1. Enter 1 to create pin\n",
      "                        2. Enter 2 to deposite\n",
      "                        3. Enter 3 to withdraw\n",
      "                        4. Enter 4 to check balance\n",
      "                        5. Enter 5 to exit\n",
      "        5\n",
      "bye...\n"
     ]
    }
   ],
   "source": [
    "class Atm:\n",
    "    \n",
    "    \n",
    "    __counter = 1\n",
    "    \n",
    "    def __init__(self):\n",
    "        self.__pin = \"\"\n",
    "        self.__balance = 0\n",
    "        self.sno = Atm.__counter\n",
    "        Atm.__counter += Atm.__counter\n",
    "        \n",
    "        \n",
    "        self.__menu()\n",
    "        \n",
    "    \n",
    "    @staticmethod\n",
    "    def get_counter():\n",
    "        return Atm.__counter\n",
    "    \n",
    "    @staticmethod\n",
    "    def set_counter(new):\n",
    "        if type(new) == int:\n",
    "            Atm.__counter = new\n",
    "        else:\n",
    "            print(\"Not Allowed\")\n",
    "            \n",
    "            \n",
    "    def get_pin(self):\n",
    "        return self.__pin\n",
    "    \n",
    "    def set_pin(self,new_pin):\n",
    "        if type(new_pin) == str():\n",
    "            self.__pin = new_pin\n",
    "            print(\"Pin set Successfully\")\n",
    "        else:\n",
    "            print(\"not allowed \")\n",
    "    \n",
    "        \n",
    "    def __menu(self):\n",
    "        user_input = input('''\n",
    "                        Hello, How would you like to proceed?\n",
    "                        1. Enter 1 to create pin\n",
    "                        2. Enter 2 to deposite\n",
    "                        3. Enter 3 to withdraw\n",
    "                        4. Enter 4 to check balance\n",
    "                        5. Enter 5 to exit\n",
    "        ''')\n",
    "        if user_input == \"1\":\n",
    "            self.create_pin()\n",
    "        elif user_input == \"2\":\n",
    "            self.deposite()\n",
    "        elif user_input == \"3\":\n",
    "            self.withdraw()\n",
    "        elif user_input == \"4\":\n",
    "            self.balance_check()\n",
    "        else:\n",
    "            print(\"bye...\")\n",
    "     \n",
    "    def create_pin(self):\n",
    "        self.__pin = input(\"Enter your pin :\")\n",
    "        print(\"pin set successfully...\")\n",
    "        self.__menu()\n",
    "        \n",
    "     \n",
    "    def deposite(self):\n",
    "        temp = input(\"Enter your pin :\")\n",
    "        if temp == self.__pin:\n",
    "            amount = int(input(\"Enter you Doposite amount :\"))\n",
    "            self.__balance += amount\n",
    "            print(\"Deposited Successfully...!\")\n",
    "        else:\n",
    "            print(\"Invalid pin...!\")\n",
    "        self.__menu()\n",
    "            \n",
    "        \n",
    "       \n",
    "    def withdraw(self):\n",
    "        temp = input(\"Enter your pin :\")\n",
    "        if temp == self.__pin:\n",
    "            amount = int(input(\"Enter you Desire amount :\"))\n",
    "            if self.__balance >= amount:\n",
    "                self.__balance -= amount\n",
    "                print(\"Operational Successfully...!\")\n",
    "        else:\n",
    "            print(\"Invalid pin...!\")\n",
    "        self.__menu()\n",
    "        \n",
    "        \n",
    "    def balance_check(self):\n",
    "        temp = input(\"Enter your pin :\")\n",
    "        if temp == self.__pin:\n",
    "            print(self.__balance)\n",
    "        else:\n",
    "            print(\"Invalid pin...!\")\n",
    "        self.__menu()\n",
    "        \n",
    "sbi = Atm() #here sbi is a refference variable because it point to the location of object"
   ]
  },
  {
   "cell_type": "code",
   "execution_count": 31,
   "id": "930aabb7",
   "metadata": {},
   "outputs": [
    {
     "data": {
      "text/plain": [
       "5"
      ]
     },
     "execution_count": 31,
     "metadata": {},
     "output_type": "execute_result"
    }
   ],
   "source": [
    "sbi.set_counter(5)\n",
    "sbi.get_counter()"
   ]
  },
  {
   "cell_type": "code",
   "execution_count": 7,
   "id": "c53696aa",
   "metadata": {},
   "outputs": [
    {
     "data": {
      "text/plain": [
       "'12345'"
      ]
     },
     "execution_count": 7,
     "metadata": {},
     "output_type": "execute_result"
    }
   ],
   "source": [
    "sbi.get_pin()"
   ]
  },
  {
   "cell_type": "code",
   "execution_count": 8,
   "id": "2076dd93",
   "metadata": {},
   "outputs": [
    {
     "name": "stdout",
     "output_type": "stream",
     "text": [
      "Pin set Successfully\n"
     ]
    }
   ],
   "source": [
    "sbi.set_pin(\"23456\")"
   ]
  },
  {
   "cell_type": "markdown",
   "id": "a183a6bd",
   "metadata": {},
   "source": [
    "# list are mutable, because its address same after editing"
   ]
  },
  {
   "cell_type": "code",
   "execution_count": 10,
   "id": "59774216",
   "metadata": {},
   "outputs": [
    {
     "name": "stdout",
     "output_type": "stream",
     "text": [
      "2542776719744\n",
      "2542781374912\n",
      "2542781374912\n",
      "[1, 2, 3, 4]\n"
     ]
    }
   ],
   "source": [
    "def change(L):\n",
    "    print(id(L))\n",
    "    L.append(5)\n",
    "    print(id(L))\n",
    "    \n",
    "    \n",
    "\n",
    "L1 = [1,2,3,4]\n",
    "print(id(L1))\n",
    "change(L1[:]) # always we have to clone mutable data types because its effect original object\n",
    "\n",
    "print(L1)"
   ]
  },
  {
   "cell_type": "code",
   "execution_count": null,
   "id": "b93cfd2b",
   "metadata": {},
   "outputs": [],
   "source": []
  }
 ],
 "metadata": {
  "kernelspec": {
   "display_name": "Python 3 (ipykernel)",
   "language": "python",
   "name": "python3"
  },
  "language_info": {
   "codemirror_mode": {
    "name": "ipython",
    "version": 3
   },
   "file_extension": ".py",
   "mimetype": "text/x-python",
   "name": "python",
   "nbconvert_exporter": "python",
   "pygments_lexer": "ipython3",
   "version": "3.10.9"
  }
 },
 "nbformat": 4,
 "nbformat_minor": 5
}
