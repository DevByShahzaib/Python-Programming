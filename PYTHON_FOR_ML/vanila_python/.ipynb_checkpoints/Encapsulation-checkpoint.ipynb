{
 "cells": [
  {
   "cell_type": "markdown",
   "id": "f22b9e8b",
   "metadata": {},
   "source": [
    "`NOTHING IN PYTHON IS TRUELY PRIVATE`\n"
   ]
  },
  {
   "cell_type": "markdown",
   "id": "90856916",
   "metadata": {},
   "source": [
    "`WE CAN ACCESS ANY DATA BY USING _className__dataName/methodName`"
   ]
  },
  {
   "cell_type": "markdown",
   "id": "cb99cb75",
   "metadata": {},
   "source": [
    "`WE CAN CREATE GETTER AND SETTER METHOD `"
   ]
  },
  {
   "cell_type": "code",
   "execution_count": 6,
   "id": "a0f6164c",
   "metadata": {},
   "outputs": [
    {
     "name": "stdout",
     "output_type": "stream",
     "text": [
      "\n",
      "                        Hello, How would you like to proceed?\n",
      "                        1. Enter 1 to create pin\n",
      "                        2. Enter 2 to deposite\n",
      "                        3. Enter 3 to withdraw\n",
      "                        4. Enter 4 to check balance\n",
      "                        5. Enter 5 to exit\n",
      "        1\n",
      "Enter your pin :12345\n",
      "pin set successfully...\n",
      "\n",
      "                        Hello, How would you like to proceed?\n",
      "                        1. Enter 1 to create pin\n",
      "                        2. Enter 2 to deposite\n",
      "                        3. Enter 3 to withdraw\n",
      "                        4. Enter 4 to check balance\n",
      "                        5. Enter 5 to exit\n",
      "        5\n",
      "bye...\n"
     ]
    }
   ],
   "source": [
    "class Atm:\n",
    "    def __init__(self):\n",
    "        self.__pin = \"\"\n",
    "        self.__balance = 0\n",
    "        \n",
    "        self.__menu()\n",
    "        \n",
    "        \n",
    "        \n",
    "    def get_pin(self):\n",
    "        return self.__pin\n",
    "    \n",
    "    def set_pin(self,new_pin):\n",
    "        self.__pin = new_pin\n",
    "        print(\"Pin set Successfully\")\n",
    "    \n",
    "        \n",
    "    def __menu(self):\n",
    "        user_input = input('''\n",
    "                        Hello, How would you like to proceed?\n",
    "                        1. Enter 1 to create pin\n",
    "                        2. Enter 2 to deposite\n",
    "                        3. Enter 3 to withdraw\n",
    "                        4. Enter 4 to check balance\n",
    "                        5. Enter 5 to exit\n",
    "        ''')\n",
    "        if user_input == \"1\":\n",
    "            self.create_pin()\n",
    "        elif user_input == \"2\":\n",
    "            self.deposite()\n",
    "        elif user_input == \"3\":\n",
    "            self.withdraw()\n",
    "        elif user_input == \"4\":\n",
    "            self.balance_check()\n",
    "        else:\n",
    "            print(\"bye...\")\n",
    "     \n",
    "    def create_pin(self):\n",
    "        self.__pin = input(\"Enter your pin :\")\n",
    "        print(\"pin set successfully...\")\n",
    "        self.__menu()\n",
    "        \n",
    "     \n",
    "    def deposite(self):\n",
    "        temp = input(\"Enter your pin :\")\n",
    "        if temp == self.__pin:\n",
    "            amount = int(input(\"Enter you Doposite amount :\"))\n",
    "            self.__balance += amount\n",
    "            print(\"Deposited Successfully...!\")\n",
    "        else:\n",
    "            print(\"Invalid pin...!\")\n",
    "        self.__menu()\n",
    "            \n",
    "        \n",
    "       \n",
    "    def withdraw(self):\n",
    "        temp = input(\"Enter your pin :\")\n",
    "        if temp == self.__pin:\n",
    "            amount = int(input(\"Enter you Desire amount :\"))\n",
    "            if self.__balance >= amount:\n",
    "                self.__balance -= amount\n",
    "                print(\"Operational Successfully...!\")\n",
    "        else:\n",
    "            print(\"Invalid pin...!\")\n",
    "        self.__menu()\n",
    "        \n",
    "        \n",
    "    def balance_check(self):\n",
    "        temp = input(\"Enter your pin :\")\n",
    "        if temp == self.__pin:\n",
    "            print(self.__balance)\n",
    "        else:\n",
    "            print(\"Invalid pin...!\")\n",
    "        self.__menu()\n",
    "        \n",
    "sbi = Atm()"
   ]
  },
  {
   "cell_type": "code",
   "execution_count": null,
   "id": "17d1922a",
   "metadata": {},
   "outputs": [],
   "source": []
  }
 ],
 "metadata": {
  "kernelspec": {
   "display_name": "Python 3 (ipykernel)",
   "language": "python",
   "name": "python3"
  },
  "language_info": {
   "codemirror_mode": {
    "name": "ipython",
    "version": 3
   },
   "file_extension": ".py",
   "mimetype": "text/x-python",
   "name": "python",
   "nbconvert_exporter": "python",
   "pygments_lexer": "ipython3",
   "version": "3.10.9"
  }
 },
 "nbformat": 4,
 "nbformat_minor": 5
}
