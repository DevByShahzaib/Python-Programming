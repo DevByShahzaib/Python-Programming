{
 "cells": [
  {
   "cell_type": "code",
   "execution_count": null,
   "id": "b0314cd7",
   "metadata": {},
   "outputs": [],
   "source": [
    "import random\n",
    "\n",
    "jackpot = random.randint(1,100) \n",
    "\n",
    "\n",
    "guess = int(input(\"enter your num :\"))\n",
    "counter = 1\n",
    "while guess != jackpot:\n",
    "    if guess < jackpot:\n",
    "        print(\"Guess Higher\")\n",
    "        \n",
    "    else:\n",
    "        print(\"Guess Lower\")\n",
    "        \n",
    "    counter += 1    \n",
    "    guess = int(input(\"chal guess kar :\"))\n",
    "    \n",
    "print(\"sahi jawab\")\n",
    "print(f\"you took {counter} attemps\")"
   ]
  },
  {
   "cell_type": "code",
   "execution_count": null,
   "id": "4ed5eba1",
   "metadata": {},
   "outputs": [],
   "source": []
  }
 ],
 "metadata": {
  "kernelspec": {
   "display_name": "Python 3 (ipykernel)",
   "language": "python",
   "name": "python3"
  },
  "language_info": {
   "codemirror_mode": {
    "name": "ipython",
    "version": 3
   },
   "file_extension": ".py",
   "mimetype": "text/x-python",
   "name": "python",
   "nbconvert_exporter": "python",
   "pygments_lexer": "ipython3",
   "version": "3.10.9"
  }
 },
 "nbformat": 4,
 "nbformat_minor": 5
}
