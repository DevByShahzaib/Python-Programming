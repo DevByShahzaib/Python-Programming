{
 "cells": [
  {
   "cell_type": "code",
   "execution_count": 31,
   "id": "26059155",
   "metadata": {},
   "outputs": [
    {
     "name": "stdout",
     "output_type": "stream",
     "text": [
      "x = 3/4\n",
      "y = 4/5\n",
      "x + y =  31/20\n"
     ]
    }
   ],
   "source": [
    "class Fraction:\n",
    "    def __init__(self,n,d):\n",
    "        self.num = n\n",
    "        self.den = d\n",
    "        self.x = x\n",
    "        self.y = y\n",
    "        \n",
    "    def __str__(self):\n",
    "        return f\"{self.num}/{self.den}\"\n",
    "    \n",
    "    def __add__(self,other):\n",
    "        return f\"{self.num*other.den + self.den*other.num}/{self.den*other.den}\"\n",
    "    \n",
    "    def __sub__(self,other):\n",
    "        return f\"{self.num*other.den - self.den*other.num}/{self.den*other.den}\"\n",
    "    \n",
    "    def __mul__(self,other):\n",
    "        return f\"{self.num*other.num}/{self.den*other.den}\"\n",
    "    \n",
    "    def __truediv__(self,other):\n",
    "        return f\"{self.num*other.den}/{self.den*other.num}\"\n",
    "    \n",
    "    \n",
    "x = Fraction(3,4)\n",
    "y = Fraction(4,5)\n",
    "print(\"x =\",x)\n",
    "print(\"y =\",y)\n",
    "print(\"x + y = \",x+y)\n",
    "    \n",
    "\n"
   ]
  },
  {
   "cell_type": "code",
   "execution_count": null,
   "id": "c298ade9",
   "metadata": {},
   "outputs": [],
   "source": []
  }
 ],
 "metadata": {
  "kernelspec": {
   "display_name": "Python 3 (ipykernel)",
   "language": "python",
   "name": "python3"
  },
  "language_info": {
   "codemirror_mode": {
    "name": "ipython",
    "version": 3
   },
   "file_extension": ".py",
   "mimetype": "text/x-python",
   "name": "python",
   "nbconvert_exporter": "python",
   "pygments_lexer": "ipython3",
   "version": "3.10.9"
  }
 },
 "nbformat": 4,
 "nbformat_minor": 5
}
