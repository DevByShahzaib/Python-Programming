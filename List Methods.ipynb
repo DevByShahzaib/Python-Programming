{
 "cells": [
  {
   "cell_type": "code",
   "execution_count": 7,
   "id": "0b56aae7",
   "metadata": {},
   "outputs": [
    {
     "data": {
      "text/plain": [
       "[11, 37, 42, 45, 56, 66, 83]"
      ]
     },
     "execution_count": 7,
     "metadata": {},
     "output_type": "execute_result"
    }
   ],
   "source": [
    "l = [11,42,56,37,83,45,66]\n",
    "l.sort()\n",
    "l"
   ]
  },
  {
   "cell_type": "code",
   "execution_count": 8,
   "id": "2a52b63b",
   "metadata": {},
   "outputs": [
    {
     "data": {
      "text/plain": [
       "[83, 66, 56, 45, 42, 37, 11]"
      ]
     },
     "execution_count": 8,
     "metadata": {},
     "output_type": "execute_result"
    }
   ],
   "source": [
    "l.sort(reverse = True)\n",
    "l"
   ]
  },
  {
   "cell_type": "code",
   "execution_count": 9,
   "id": "c4f355bc",
   "metadata": {},
   "outputs": [],
   "source": [
    "l.append(\"Shahzaib\")"
   ]
  },
  {
   "cell_type": "code",
   "execution_count": 11,
   "id": "c71956ab",
   "metadata": {},
   "outputs": [
    {
     "data": {
      "text/plain": [
       "[83, 66, 56, 45, 42, 37, 11, 'Shahzaib']"
      ]
     },
     "execution_count": 11,
     "metadata": {},
     "output_type": "execute_result"
    }
   ],
   "source": [
    "l"
   ]
  },
  {
   "cell_type": "code",
   "execution_count": 12,
   "id": "fbc08aac",
   "metadata": {},
   "outputs": [
    {
     "data": {
      "text/plain": [
       "['Shahzaib', 11, 37, 42, 45, 56, 66, 83]"
      ]
     },
     "execution_count": 12,
     "metadata": {},
     "output_type": "execute_result"
    }
   ],
   "source": [
    "l.reverse()\n",
    "l"
   ]
  },
  {
   "cell_type": "code",
   "execution_count": 17,
   "id": "59de704c",
   "metadata": {},
   "outputs": [
    {
     "name": "stdout",
     "output_type": "stream",
     "text": [
      "0\n"
     ]
    }
   ],
   "source": [
    "print(l.index(\"Shahzaib\"))"
   ]
  },
  {
   "cell_type": "code",
   "execution_count": 20,
   "id": "c2bf14d3",
   "metadata": {},
   "outputs": [
    {
     "name": "stdout",
     "output_type": "stream",
     "text": [
      "['Shahzaib', 11, 37, 42, 45, 56, 66, 83]\n"
     ]
    },
    {
     "data": {
      "text/plain": [
       "['khan', 11, 37, 42, 45, 56, 66, 83]"
      ]
     },
     "execution_count": 20,
     "metadata": {},
     "output_type": "execute_result"
    }
   ],
   "source": [
    "m = l.copy()\n",
    "m[0] = \"khan\"\n",
    "print(l)\n",
    "m"
   ]
  },
  {
   "cell_type": "code",
   "execution_count": 21,
   "id": "44ee2ef9",
   "metadata": {},
   "outputs": [
    {
     "data": {
      "text/plain": [
       "['Shahzaib', 'Fari']"
      ]
     },
     "execution_count": 21,
     "metadata": {},
     "output_type": "execute_result"
    }
   ],
   "source": [
    "s = [\"Shahzaib\"]\n",
    "f = [\"Fari\"]\n",
    "s.extend(f)\n",
    "s"
   ]
  },
  {
   "cell_type": "code",
   "execution_count": null,
   "id": "8a0c5ea8",
   "metadata": {},
   "outputs": [],
   "source": []
  }
 ],
 "metadata": {
  "kernelspec": {
   "display_name": "Python 3 (ipykernel)",
   "language": "python",
   "name": "python3"
  },
  "language_info": {
   "codemirror_mode": {
    "name": "ipython",
    "version": 3
   },
   "file_extension": ".py",
   "mimetype": "text/x-python",
   "name": "python",
   "nbconvert_exporter": "python",
   "pygments_lexer": "ipython3",
   "version": "3.9.13"
  }
 },
 "nbformat": 4,
 "nbformat_minor": 5
}
