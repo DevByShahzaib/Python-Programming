{
 "cells": [
  {
   "cell_type": "markdown",
   "id": "4e7eea6a",
   "metadata": {},
   "source": [
    "# NUMPY ARRAYS"
   ]
  },
  {
   "cell_type": "code",
   "execution_count": 3,
   "id": "3b375f20",
   "metadata": {},
   "outputs": [
    {
     "data": {
      "text/plain": [
       "array([10, 20, 30, 40, 50])"
      ]
     },
     "execution_count": 3,
     "metadata": {},
     "output_type": "execute_result"
    }
   ],
   "source": [
    "import numpy as np\n",
    "l1 = np.array([10,20,30,40,50])\n",
    "l1"
   ]
  },
  {
   "cell_type": "code",
   "execution_count": 4,
   "id": "debb3ed5",
   "metadata": {},
   "outputs": [
    {
     "data": {
      "text/plain": [
       "numpy.ndarray"
      ]
     },
     "execution_count": 4,
     "metadata": {},
     "output_type": "execute_result"
    }
   ],
   "source": [
    "type(l1)"
   ]
  },
  {
   "cell_type": "code",
   "execution_count": 6,
   "id": "0279ac67",
   "metadata": {},
   "outputs": [
    {
     "data": {
      "text/plain": [
       "array([[20, 40, 50],\n",
       "       [33, 44, 55]])"
      ]
     },
     "execution_count": 6,
     "metadata": {},
     "output_type": "execute_result"
    }
   ],
   "source": [
    "l2 = np.array([[20,40,50],[33,44,55]])\n",
    "l2"
   ]
  },
  {
   "cell_type": "code",
   "execution_count": 7,
   "id": "d1d0259a",
   "metadata": {},
   "outputs": [
    {
     "data": {
      "text/plain": [
       "numpy.ndarray"
      ]
     },
     "execution_count": 7,
     "metadata": {},
     "output_type": "execute_result"
    }
   ],
   "source": [
    "type(l2)"
   ]
  },
  {
   "cell_type": "markdown",
   "id": "4f978d43",
   "metadata": {},
   "source": [
    "# NUMPY ZEROS METHOD"
   ]
  },
  {
   "cell_type": "code",
   "execution_count": 23,
   "id": "ad7d078f",
   "metadata": {},
   "outputs": [
    {
     "data": {
      "text/plain": [
       "array([[0., 0., 0.],\n",
       "       [0., 0., 0.],\n",
       "       [0., 0., 0.],\n",
       "       [0., 0., 0.]])"
      ]
     },
     "execution_count": 23,
     "metadata": {},
     "output_type": "execute_result"
    }
   ],
   "source": [
    "l3 = np.zeros((3,4))\n",
    "print(l3)\n",
    "type(l3)"
   ]
  },
  {
   "cell_type": "markdown",
   "id": "24825d67",
   "metadata": {},
   "source": [
    "# NUMPY FULL METHOD"
   ]
  },
  {
   "cell_type": "code",
   "execution_count": 11,
   "id": "27cb39fe",
   "metadata": {},
   "outputs": [
    {
     "name": "stdout",
     "output_type": "stream",
     "text": [
      "[[4 4 4 4]\n",
      " [4 4 4 4]\n",
      " [4 4 4 4]]\n"
     ]
    },
    {
     "data": {
      "text/plain": [
       "numpy.ndarray"
      ]
     },
     "execution_count": 11,
     "metadata": {},
     "output_type": "execute_result"
    }
   ],
   "source": [
    "l4 = np.full((3,4),4)\n",
    "print(l4)\n",
    "type(l4)"
   ]
  },
  {
   "cell_type": "markdown",
   "id": "cbb95bef",
   "metadata": {},
   "source": [
    "# NUMPY ARANGE METHOD"
   ]
  },
  {
   "cell_type": "code",
   "execution_count": 16,
   "id": "3df0a9de",
   "metadata": {},
   "outputs": [
    {
     "data": {
      "text/plain": [
       "array([10, 11, 12, 13, 14, 15, 16, 17, 18, 19, 20])"
      ]
     },
     "execution_count": 16,
     "metadata": {},
     "output_type": "execute_result"
    }
   ],
   "source": [
    "l5 = np.arange(10,21)\n",
    "l5"
   ]
  },
  {
   "cell_type": "markdown",
   "id": "7c5a8251",
   "metadata": {},
   "source": [
    "# NUMPY ARANGE WITH STEP"
   ]
  },
  {
   "cell_type": "code",
   "execution_count": 17,
   "id": "ee3a8e12",
   "metadata": {},
   "outputs": [
    {
     "data": {
      "text/plain": [
       "array([10, 15, 20, 25, 30, 35, 40, 45, 50])"
      ]
     },
     "execution_count": 17,
     "metadata": {},
     "output_type": "execute_result"
    }
   ],
   "source": [
    "l6 = np.arange(10,51,5)\n",
    "l6"
   ]
  },
  {
   "cell_type": "markdown",
   "id": "83f47cd3",
   "metadata": {},
   "source": [
    "# NUMPY ARRAYS WITH RANDOM NUMBERS"
   ]
  },
  {
   "cell_type": "code",
   "execution_count": 18,
   "id": "a051cf6e",
   "metadata": {},
   "outputs": [
    {
     "data": {
      "text/plain": [
       "array([63, 76, 28, 14, 44, 49, 32, 99, 74, 26])"
      ]
     },
     "execution_count": 18,
     "metadata": {},
     "output_type": "execute_result"
    }
   ],
   "source": [
    "l7 = np.random.randint(1,100,10)       #last parameter takes how many nos to generate random\n",
    "l7"
   ]
  },
  {
   "cell_type": "markdown",
   "id": "e63c2488",
   "metadata": {},
   "source": [
    "# SHAPE OF NUMPY ARRAYS"
   ]
  },
  {
   "cell_type": "code",
   "execution_count": 24,
   "id": "7f42f510",
   "metadata": {},
   "outputs": [
    {
     "data": {
      "text/plain": [
       "(2, 4)"
      ]
     },
     "execution_count": 24,
     "metadata": {},
     "output_type": "execute_result"
    }
   ],
   "source": [
    "import numpy as np\n",
    "l8 = np.array([[2,3,4,5],[6,7,8,9]])\n",
    "l8.shape"
   ]
  },
  {
   "cell_type": "code",
   "execution_count": null,
   "id": "ee611060",
   "metadata": {},
   "outputs": [],
   "source": [
    "l8.shape =(4,2)\n",
    "l8.shape"
   ]
  },
  {
   "cell_type": "markdown",
   "id": "130e03f3",
   "metadata": {},
   "source": [
    "# STACK IN NUMPY"
   ]
  },
  {
   "cell_type": "code",
   "execution_count": 26,
   "id": "31ae37d1",
   "metadata": {},
   "outputs": [
    {
     "data": {
      "text/plain": [
       "array([[ 1,  2,  3,  4,  5],\n",
       "       [ 6,  7,  8,  9, 10]])"
      ]
     },
     "execution_count": 26,
     "metadata": {},
     "output_type": "execute_result"
    }
   ],
   "source": [
    "# stack in vertically\n",
    "r1 = np.array([1,2,3,4,5])\n",
    "r2 = np.array([6,7,8,9,10])\n",
    "stack_in_vertically = np.vstack((r1,r2))\n",
    "stack_in_vertically"
   ]
  },
  {
   "cell_type": "code",
   "execution_count": 27,
   "id": "8356c88d",
   "metadata": {},
   "outputs": [
    {
     "data": {
      "text/plain": [
       "array([ 1,  2,  3,  4,  5,  6,  7,  8,  9, 10])"
      ]
     },
     "execution_count": 27,
     "metadata": {},
     "output_type": "execute_result"
    }
   ],
   "source": [
    "#stack in horizontally\n",
    "r1 = np.array([1,2,3,4,5])\n",
    "r2 = np.array([6,7,8,9,10])\n",
    "stack_in_horizontally = np.hstack((r1,r2))\n",
    "stack_in_horizontally"
   ]
  },
  {
   "cell_type": "code",
   "execution_count": 28,
   "id": "a6e2b0a4",
   "metadata": {},
   "outputs": [
    {
     "data": {
      "text/plain": [
       "array([[ 1,  6],\n",
       "       [ 2,  7],\n",
       "       [ 3,  8],\n",
       "       [ 4,  9],\n",
       "       [ 5, 10]])"
      ]
     },
     "execution_count": 28,
     "metadata": {},
     "output_type": "execute_result"
    }
   ],
   "source": [
    "#stack as Column\n",
    "r1 = np.array([1,2,3,4,5])\n",
    "r2 = np.array([6,7,8,9,10])\n",
    "stack_in_column = np.column_stack((r1,r2))\n",
    "stack_in_column"
   ]
  },
  {
   "cell_type": "markdown",
   "id": "3514f77c",
   "metadata": {},
   "source": [
    "# INTERSECTION AND DIFFERENCE IN ARRAYS"
   ]
  },
  {
   "cell_type": "code",
   "execution_count": 29,
   "id": "27444122",
   "metadata": {},
   "outputs": [
    {
     "data": {
      "text/plain": [
       "array([40, 50, 60])"
      ]
     },
     "execution_count": 29,
     "metadata": {},
     "output_type": "execute_result"
    }
   ],
   "source": [
    "import numpy as np\n",
    "n1 = np.array([10,20,30,40,50,60])\n",
    "n2 = np.array([40,50,60,70,80,90])\n",
    "np.intersect1d(n1,n2)"
   ]
  },
  {
   "cell_type": "code",
   "execution_count": 30,
   "id": "0ee98502",
   "metadata": {},
   "outputs": [
    {
     "data": {
      "text/plain": [
       "array([10, 20, 30])"
      ]
     },
     "execution_count": 30,
     "metadata": {},
     "output_type": "execute_result"
    }
   ],
   "source": [
    "np.setdiff1d(n1,n2)\n"
   ]
  },
  {
   "cell_type": "code",
   "execution_count": 31,
   "id": "9d9e03d7",
   "metadata": {},
   "outputs": [
    {
     "data": {
      "text/plain": [
       "array([70, 80, 90])"
      ]
     },
     "execution_count": 31,
     "metadata": {},
     "output_type": "execute_result"
    }
   ],
   "source": [
    "np.setdiff1d(n2,n1)"
   ]
  },
  {
   "cell_type": "markdown",
   "id": "1871d8c1",
   "metadata": {},
   "source": [
    "# ADDITION IN NUMPY ARRAYS"
   ]
  },
  {
   "cell_type": "code",
   "execution_count": 32,
   "id": "a6bab454",
   "metadata": {},
   "outputs": [
    {
     "data": {
      "text/plain": [
       "600"
      ]
     },
     "execution_count": 32,
     "metadata": {},
     "output_type": "execute_result"
    }
   ],
   "source": [
    "n1 = np.array([10,20,30,40,50,60])\n",
    "n2 = np.array([40,50,60,70,80,90])\n",
    "np.sum((n1,n2))"
   ]
  },
  {
   "cell_type": "code",
   "execution_count": 33,
   "id": "83f11515",
   "metadata": {},
   "outputs": [
    {
     "data": {
      "text/plain": [
       "array([ 50,  70,  90, 110, 130, 150])"
      ]
     },
     "execution_count": 33,
     "metadata": {},
     "output_type": "execute_result"
    }
   ],
   "source": [
    "#Addition in col\n",
    "np.sum((n1,n2), axis=0)"
   ]
  },
  {
   "cell_type": "code",
   "execution_count": 35,
   "id": "ed90c74d",
   "metadata": {},
   "outputs": [
    {
     "data": {
      "text/plain": [
       "390"
      ]
     },
     "execution_count": 35,
     "metadata": {},
     "output_type": "execute_result"
    }
   ],
   "source": [
    "#Addition in Horizontally\n",
    "np.sum(n2)"
   ]
  },
  {
   "cell_type": "markdown",
   "id": "dfca3828",
   "metadata": {},
   "source": [
    "# Mean in NUMPY"
   ]
  },
  {
   "cell_type": "code",
   "execution_count": 36,
   "id": "07de58e3",
   "metadata": {},
   "outputs": [
    {
     "data": {
      "text/plain": [
       "35.0"
      ]
     },
     "execution_count": 36,
     "metadata": {},
     "output_type": "execute_result"
    }
   ],
   "source": [
    "np.mean(n1)"
   ]
  },
  {
   "cell_type": "markdown",
   "id": "85236a9a",
   "metadata": {},
   "source": [
    "# Median in NUMPY"
   ]
  },
  {
   "cell_type": "code",
   "execution_count": 37,
   "id": "e7e7e593",
   "metadata": {},
   "outputs": [
    {
     "data": {
      "text/plain": [
       "35.0"
      ]
     },
     "execution_count": 37,
     "metadata": {},
     "output_type": "execute_result"
    }
   ],
   "source": [
    "np.median(n1)"
   ]
  },
  {
   "cell_type": "markdown",
   "id": "4f1e9ab8",
   "metadata": {},
   "source": [
    "# standard deviation in NUMPY"
   ]
  },
  {
   "cell_type": "code",
   "execution_count": 38,
   "id": "c5902973",
   "metadata": {},
   "outputs": [
    {
     "data": {
      "text/plain": [
       "17.07825127659933"
      ]
     },
     "execution_count": 38,
     "metadata": {},
     "output_type": "execute_result"
    }
   ],
   "source": [
    "np.std(n1)"
   ]
  },
  {
   "cell_type": "markdown",
   "id": "db298023",
   "metadata": {},
   "source": [
    "# NumPY Save and Load"
   ]
  },
  {
   "cell_type": "code",
   "execution_count": 39,
   "id": "40ba31fb",
   "metadata": {},
   "outputs": [
    {
     "data": {
      "text/plain": [
       "array([2, 4, 6, 7, 8, 9])"
      ]
     },
     "execution_count": 39,
     "metadata": {},
     "output_type": "execute_result"
    }
   ],
   "source": [
    "np.save('my_NumPY', np.array([2,4,6,7,8,9]))\n",
    "\n",
    "s2 = np.load('my_NumPY.npy')\n",
    "s2"
   ]
  },
  {
   "cell_type": "code",
   "execution_count": null,
   "id": "da70c654",
   "metadata": {},
   "outputs": [],
   "source": [
    "print(np.__version__)"
   ]
  }
 ],
 "metadata": {
  "kernelspec": {
   "display_name": "Python 3 (ipykernel)",
   "language": "python",
   "name": "python3"
  },
  "language_info": {
   "codemirror_mode": {
    "name": "ipython",
    "version": 3
   },
   "file_extension": ".py",
   "mimetype": "text/x-python",
   "name": "python",
   "nbconvert_exporter": "python",
   "pygments_lexer": "ipython3",
   "version": "3.9.13"
  }
 },
 "nbformat": 4,
 "nbformat_minor": 5
}
