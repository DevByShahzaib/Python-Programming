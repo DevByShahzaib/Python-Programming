{
 "cells": [
  {
   "cell_type": "markdown",
   "id": "d97922ca",
   "metadata": {},
   "source": [
    "# Series object is a one dimensional array"
   ]
  },
  {
   "cell_type": "code",
   "execution_count": 4,
   "id": "3459a0ed",
   "metadata": {},
   "outputs": [
    {
     "name": "stdout",
     "output_type": "stream",
     "text": [
      "<class 'pandas.core.series.Series'>\n"
     ]
    },
    {
     "data": {
      "text/plain": [
       "0    1\n",
       "1    2\n",
       "2    3\n",
       "3    4\n",
       "4    5\n",
       "dtype: int64"
      ]
     },
     "execution_count": 4,
     "metadata": {},
     "output_type": "execute_result"
    }
   ],
   "source": [
    "import pandas as pd\n",
    "s1 = pd.Series([1,2,3,4,5],)\n",
    "print(type(s1))\n",
    "s1"
   ]
  },
  {
   "cell_type": "markdown",
   "id": "8155a050",
   "metadata": {},
   "source": [
    "# CHANGING INDEX"
   ]
  },
  {
   "cell_type": "code",
   "execution_count": 7,
   "id": "ee94612c",
   "metadata": {},
   "outputs": [
    {
     "data": {
      "text/plain": [
       "a    1\n",
       "b    2\n",
       "c    3\n",
       "d    4\n",
       "e    5\n",
       "dtype: int64"
      ]
     },
     "execution_count": 7,
     "metadata": {},
     "output_type": "execute_result"
    }
   ],
   "source": [
    "s1 = pd.Series([1,2,3,4,5], index = ['a','b','c','d','e']) #<=method_one\n",
    "\n",
    "s1.index = ['a','b','c','d','e']   #<=method_two\n",
    "\n",
    "s1"
   ]
  },
  {
   "cell_type": "markdown",
   "id": "26a677f6",
   "metadata": {},
   "source": [
    "# SERIES OBJECT AS DICTIONARY"
   ]
  },
  {
   "cell_type": "code",
   "execution_count": 13,
   "id": "74b85cc9",
   "metadata": {},
   "outputs": [
    {
     "name": "stdout",
     "output_type": "stream",
     "text": [
      "b    2\n",
      "c    3\n",
      "a    1\n",
      "e    5\n",
      "d    4\n",
      "dtype: int64\n"
     ]
    },
    {
     "data": {
      "text/plain": [
       "b    2\n",
       "c    3\n",
       "a    1\n",
       "e    5\n",
       "d    4\n",
       "dtype: int64"
      ]
     },
     "execution_count": 13,
     "metadata": {},
     "output_type": "execute_result"
    }
   ],
   "source": [
    "import pandas as pd\n",
    "s2 = pd.Series({'a' : 1, 'b': 2,'c' : 3, 'd' : 4, 'e' : 5}, index = ['b', 'c', 'a', 'e', 'd']) # ismy key and value dono jaga change krhi hai\n",
    "print(s2)\n",
    "s2.index = ['b', 'c', 'a', 'e', 'd'] # just index change horhi h value same hai\n",
    "s2"
   ]
  },
  {
   "cell_type": "markdown",
   "id": "9bdd8450",
   "metadata": {},
   "source": [
    "# EXTRACT VALUES FROM  ARRAY"
   ]
  },
  {
   "cell_type": "code",
   "execution_count": null,
   "id": "6af19e96",
   "metadata": {},
   "outputs": [],
   "source": [
    "l1 =[1,2,3,4,5,6,7,8,9,10]\n",
    "s1 = pd.Series(l1)\n",
    "print(s1[5])\n",
    "print(s1[1:])\n",
    "print(s1[4:])\n",
    "print(s1[-4:])"
   ]
  },
  {
   "cell_type": "markdown",
   "id": "d8779529",
   "metadata": {},
   "source": [
    "# MULTIDIMENSIONAL DATA (DataFrame)"
   ]
  },
  {
   "cell_type": "code",
   "execution_count": 14,
   "id": "51fbd745",
   "metadata": {},
   "outputs": [
    {
     "data": {
      "text/html": [
       "<div>\n",
       "<style scoped>\n",
       "    .dataframe tbody tr th:only-of-type {\n",
       "        vertical-align: middle;\n",
       "    }\n",
       "\n",
       "    .dataframe tbody tr th {\n",
       "        vertical-align: top;\n",
       "    }\n",
       "\n",
       "    .dataframe thead th {\n",
       "        text-align: right;\n",
       "    }\n",
       "</style>\n",
       "<table border=\"1\" class=\"dataframe\">\n",
       "  <thead>\n",
       "    <tr style=\"text-align: right;\">\n",
       "      <th></th>\n",
       "      <th>Name</th>\n",
       "      <th>Marks</th>\n",
       "      <th>Address</th>\n",
       "    </tr>\n",
       "  </thead>\n",
       "  <tbody>\n",
       "    <tr>\n",
       "      <th>0</th>\n",
       "      <td>shahzaib</td>\n",
       "      <td>80</td>\n",
       "      <td>Sector L-1</td>\n",
       "    </tr>\n",
       "    <tr>\n",
       "      <th>1</th>\n",
       "      <td>mujtaba</td>\n",
       "      <td>75</td>\n",
       "      <td>Sector 5a1</td>\n",
       "    </tr>\n",
       "    <tr>\n",
       "      <th>2</th>\n",
       "      <td>rafay</td>\n",
       "      <td>77</td>\n",
       "      <td>Safora</td>\n",
       "    </tr>\n",
       "  </tbody>\n",
       "</table>\n",
       "</div>"
      ],
      "text/plain": [
       "       Name  Marks     Address\n",
       "0  shahzaib     80  Sector L-1\n",
       "1   mujtaba     75  Sector 5a1\n",
       "2     rafay     77      Safora"
      ]
     },
     "execution_count": 14,
     "metadata": {},
     "output_type": "execute_result"
    }
   ],
   "source": [
    "# data frame contain rows and column\n",
    "d1 = pd.DataFrame({'Name': ['shahzaib', 'mujtaba', 'rafay'],'Marks': [80,75,77], 'Address':['Sector L-1', 'Sector 5a1', 'Safora']})\n",
    "d1"
   ]
  },
  {
   "cell_type": "markdown",
   "id": "5bb37e94",
   "metadata": {},
   "source": [
    "# DataFrame in-build function"
   ]
  },
  {
   "cell_type": "code",
   "execution_count": 15,
   "id": "ad0e5fe4",
   "metadata": {},
   "outputs": [
    {
     "data": {
      "text/html": [
       "<div>\n",
       "<style scoped>\n",
       "    .dataframe tbody tr th:only-of-type {\n",
       "        vertical-align: middle;\n",
       "    }\n",
       "\n",
       "    .dataframe tbody tr th {\n",
       "        vertical-align: top;\n",
       "    }\n",
       "\n",
       "    .dataframe thead th {\n",
       "        text-align: right;\n",
       "    }\n",
       "</style>\n",
       "<table border=\"1\" class=\"dataframe\">\n",
       "  <thead>\n",
       "    <tr style=\"text-align: right;\">\n",
       "      <th></th>\n",
       "      <th>Name</th>\n",
       "      <th>physics</th>\n",
       "      <th>Chemistry</th>\n",
       "      <th>Maths</th>\n",
       "    </tr>\n",
       "  </thead>\n",
       "  <tbody>\n",
       "    <tr>\n",
       "      <th>0</th>\n",
       "      <td>Shahzaib</td>\n",
       "      <td>56</td>\n",
       "      <td>67</td>\n",
       "      <td>45</td>\n",
       "    </tr>\n",
       "    <tr>\n",
       "      <th>1</th>\n",
       "      <td>Sufyan</td>\n",
       "      <td>60</td>\n",
       "      <td>49</td>\n",
       "      <td>55</td>\n",
       "    </tr>\n",
       "    <tr>\n",
       "      <th>2</th>\n",
       "      <td>Rafay</td>\n",
       "      <td>62</td>\n",
       "      <td>56</td>\n",
       "      <td>77</td>\n",
       "    </tr>\n",
       "    <tr>\n",
       "      <th>3</th>\n",
       "      <td>Shahzaib</td>\n",
       "      <td>56</td>\n",
       "      <td>67</td>\n",
       "      <td>45</td>\n",
       "    </tr>\n",
       "    <tr>\n",
       "      <th>4</th>\n",
       "      <td>Sufyan</td>\n",
       "      <td>60</td>\n",
       "      <td>49</td>\n",
       "      <td>55</td>\n",
       "    </tr>\n",
       "  </tbody>\n",
       "</table>\n",
       "</div>"
      ],
      "text/plain": [
       "        Name  physics  Chemistry  Maths\n",
       "0  Shahzaib        56         67     45\n",
       "1     Sufyan       60         49     55\n",
       "2      Rafay       62         56     77\n",
       "3  Shahzaib        56         67     45\n",
       "4     Sufyan       60         49     55"
      ]
     },
     "execution_count": 15,
     "metadata": {},
     "output_type": "execute_result"
    }
   ],
   "source": [
    "import pandas as pd\n",
    "iris = pd.read_csv('Data.csv')\n",
    "iris.head() # for 1st five records\n"
   ]
  },
  {
   "cell_type": "code",
   "execution_count": 16,
   "id": "368a96d9",
   "metadata": {},
   "outputs": [
    {
     "data": {
      "text/html": [
       "<div>\n",
       "<style scoped>\n",
       "    .dataframe tbody tr th:only-of-type {\n",
       "        vertical-align: middle;\n",
       "    }\n",
       "\n",
       "    .dataframe tbody tr th {\n",
       "        vertical-align: top;\n",
       "    }\n",
       "\n",
       "    .dataframe thead th {\n",
       "        text-align: right;\n",
       "    }\n",
       "</style>\n",
       "<table border=\"1\" class=\"dataframe\">\n",
       "  <thead>\n",
       "    <tr style=\"text-align: right;\">\n",
       "      <th></th>\n",
       "      <th>Name</th>\n",
       "      <th>physics</th>\n",
       "      <th>Chemistry</th>\n",
       "      <th>Maths</th>\n",
       "    </tr>\n",
       "  </thead>\n",
       "  <tbody>\n",
       "    <tr>\n",
       "      <th>10</th>\n",
       "      <td>Sufyan</td>\n",
       "      <td>60</td>\n",
       "      <td>49</td>\n",
       "      <td>55</td>\n",
       "    </tr>\n",
       "    <tr>\n",
       "      <th>11</th>\n",
       "      <td>Rafay</td>\n",
       "      <td>62</td>\n",
       "      <td>56</td>\n",
       "      <td>77</td>\n",
       "    </tr>\n",
       "    <tr>\n",
       "      <th>12</th>\n",
       "      <td>Shahzaib</td>\n",
       "      <td>56</td>\n",
       "      <td>67</td>\n",
       "      <td>45</td>\n",
       "    </tr>\n",
       "    <tr>\n",
       "      <th>13</th>\n",
       "      <td>Sufyan</td>\n",
       "      <td>60</td>\n",
       "      <td>49</td>\n",
       "      <td>55</td>\n",
       "    </tr>\n",
       "    <tr>\n",
       "      <th>14</th>\n",
       "      <td>Rafay</td>\n",
       "      <td>62</td>\n",
       "      <td>56</td>\n",
       "      <td>77</td>\n",
       "    </tr>\n",
       "  </tbody>\n",
       "</table>\n",
       "</div>"
      ],
      "text/plain": [
       "         Name  physics  Chemistry  Maths\n",
       "10     Sufyan       60         49     55\n",
       "11      Rafay       62         56     77\n",
       "12  Shahzaib        56         67     45\n",
       "13     Sufyan       60         49     55\n",
       "14      Rafay       62         56     77"
      ]
     },
     "execution_count": 16,
     "metadata": {},
     "output_type": "execute_result"
    }
   ],
   "source": [
    "iris.tail() # for last five records"
   ]
  },
  {
   "cell_type": "code",
   "execution_count": 17,
   "id": "cf6cab86",
   "metadata": {},
   "outputs": [
    {
     "data": {
      "text/plain": [
       "(15, 4)"
      ]
     },
     "execution_count": 17,
     "metadata": {},
     "output_type": "execute_result"
    }
   ],
   "source": [
    "iris.shape # check to know how many rows and columns"
   ]
  },
  {
   "cell_type": "code",
   "execution_count": 18,
   "id": "91bbe833",
   "metadata": {},
   "outputs": [
    {
     "data": {
      "text/html": [
       "<div>\n",
       "<style scoped>\n",
       "    .dataframe tbody tr th:only-of-type {\n",
       "        vertical-align: middle;\n",
       "    }\n",
       "\n",
       "    .dataframe tbody tr th {\n",
       "        vertical-align: top;\n",
       "    }\n",
       "\n",
       "    .dataframe thead th {\n",
       "        text-align: right;\n",
       "    }\n",
       "</style>\n",
       "<table border=\"1\" class=\"dataframe\">\n",
       "  <thead>\n",
       "    <tr style=\"text-align: right;\">\n",
       "      <th></th>\n",
       "      <th>physics</th>\n",
       "      <th>Chemistry</th>\n",
       "      <th>Maths</th>\n",
       "    </tr>\n",
       "  </thead>\n",
       "  <tbody>\n",
       "    <tr>\n",
       "      <th>count</th>\n",
       "      <td>15.000000</td>\n",
       "      <td>15.000000</td>\n",
       "      <td>15.000000</td>\n",
       "    </tr>\n",
       "    <tr>\n",
       "      <th>mean</th>\n",
       "      <td>59.333333</td>\n",
       "      <td>57.333333</td>\n",
       "      <td>59.000000</td>\n",
       "    </tr>\n",
       "    <tr>\n",
       "      <th>std</th>\n",
       "      <td>2.581989</td>\n",
       "      <td>7.668737</td>\n",
       "      <td>13.835771</td>\n",
       "    </tr>\n",
       "    <tr>\n",
       "      <th>min</th>\n",
       "      <td>56.000000</td>\n",
       "      <td>49.000000</td>\n",
       "      <td>45.000000</td>\n",
       "    </tr>\n",
       "    <tr>\n",
       "      <th>25%</th>\n",
       "      <td>56.000000</td>\n",
       "      <td>49.000000</td>\n",
       "      <td>45.000000</td>\n",
       "    </tr>\n",
       "    <tr>\n",
       "      <th>50%</th>\n",
       "      <td>60.000000</td>\n",
       "      <td>56.000000</td>\n",
       "      <td>55.000000</td>\n",
       "    </tr>\n",
       "    <tr>\n",
       "      <th>75%</th>\n",
       "      <td>62.000000</td>\n",
       "      <td>67.000000</td>\n",
       "      <td>77.000000</td>\n",
       "    </tr>\n",
       "    <tr>\n",
       "      <th>max</th>\n",
       "      <td>62.000000</td>\n",
       "      <td>67.000000</td>\n",
       "      <td>77.000000</td>\n",
       "    </tr>\n",
       "  </tbody>\n",
       "</table>\n",
       "</div>"
      ],
      "text/plain": [
       "         physics  Chemistry      Maths\n",
       "count  15.000000  15.000000  15.000000\n",
       "mean   59.333333  57.333333  59.000000\n",
       "std     2.581989   7.668737  13.835771\n",
       "min    56.000000  49.000000  45.000000\n",
       "25%    56.000000  49.000000  45.000000\n",
       "50%    60.000000  56.000000  55.000000\n",
       "75%    62.000000  67.000000  77.000000\n",
       "max    62.000000  67.000000  77.000000"
      ]
     },
     "execution_count": 18,
     "metadata": {},
     "output_type": "execute_result"
    }
   ],
   "source": [
    "iris.describe() # Describe all importants operations"
   ]
  },
  {
   "cell_type": "code",
   "execution_count": 19,
   "id": "ab54c017",
   "metadata": {},
   "outputs": [
    {
     "data": {
      "text/html": [
       "<div>\n",
       "<style scoped>\n",
       "    .dataframe tbody tr th:only-of-type {\n",
       "        vertical-align: middle;\n",
       "    }\n",
       "\n",
       "    .dataframe tbody tr th {\n",
       "        vertical-align: top;\n",
       "    }\n",
       "\n",
       "    .dataframe thead th {\n",
       "        text-align: right;\n",
       "    }\n",
       "</style>\n",
       "<table border=\"1\" class=\"dataframe\">\n",
       "  <thead>\n",
       "    <tr style=\"text-align: right;\">\n",
       "      <th></th>\n",
       "      <th>physics</th>\n",
       "      <th>Chemistry</th>\n",
       "      <th>Maths</th>\n",
       "    </tr>\n",
       "  </thead>\n",
       "  <tbody>\n",
       "    <tr>\n",
       "      <th>0</th>\n",
       "      <td>56</td>\n",
       "      <td>67</td>\n",
       "      <td>45</td>\n",
       "    </tr>\n",
       "    <tr>\n",
       "      <th>1</th>\n",
       "      <td>60</td>\n",
       "      <td>49</td>\n",
       "      <td>55</td>\n",
       "    </tr>\n",
       "    <tr>\n",
       "      <th>2</th>\n",
       "      <td>62</td>\n",
       "      <td>56</td>\n",
       "      <td>77</td>\n",
       "    </tr>\n",
       "  </tbody>\n",
       "</table>\n",
       "</div>"
      ],
      "text/plain": [
       "   physics  Chemistry  Maths\n",
       "0       56         67     45\n",
       "1       60         49     55\n",
       "2       62         56     77"
      ]
     },
     "execution_count": 19,
     "metadata": {},
     "output_type": "execute_result"
    }
   ],
   "source": [
    "iris.iloc[0:3, 1:3]"
   ]
  },
  {
   "cell_type": "code",
   "execution_count": null,
   "id": "e386a065",
   "metadata": {},
   "outputs": [],
   "source": [
    "iris.loc[0:5, ('Name','physics',\"Chemistry\")] #=> first and last rows k dono index inclusive hen"
   ]
  },
  {
   "cell_type": "code",
   "execution_count": null,
   "id": "e3be257f",
   "metadata": {},
   "outputs": [],
   "source": [
    "iris.drop('Chemistry',axis=1) # axis=0 is for rows and,,,,, axis=1 is for column "
   ]
  },
  {
   "cell_type": "code",
   "execution_count": null,
   "id": "27615792",
   "metadata": {},
   "outputs": [],
   "source": [
    "iris.drop([1,2], axis = 0)"
   ]
  },
  {
   "cell_type": "markdown",
   "id": "2fcfaa28",
   "metadata": {},
   "source": [
    "# MORE PANDAS FUNCTIONS"
   ]
  },
  {
   "cell_type": "code",
   "execution_count": null,
   "id": "e7ecc0ff",
   "metadata": {},
   "outputs": [],
   "source": [
    "iris.min()"
   ]
  },
  {
   "cell_type": "code",
   "execution_count": null,
   "id": "611efb7d",
   "metadata": {},
   "outputs": [],
   "source": [
    "iris.max()"
   ]
  },
  {
   "cell_type": "code",
   "execution_count": null,
   "id": "b64faedd",
   "metadata": {},
   "outputs": [],
   "source": [
    "iris.mean()"
   ]
  },
  {
   "cell_type": "code",
   "execution_count": null,
   "id": "c49fd075",
   "metadata": {},
   "outputs": [],
   "source": [
    "iris.median()"
   ]
  },
  {
   "cell_type": "code",
   "execution_count": null,
   "id": "dea6a416",
   "metadata": {},
   "outputs": [],
   "source": [
    "iris"
   ]
  },
  {
   "cell_type": "code",
   "execution_count": null,
   "id": "ba259c8b",
   "metadata": {},
   "outputs": [],
   "source": [
    "def Half(s):\n",
    "    return s*0.5\n",
    "iris[['physics', 'Chemistry','Maths']].apply(Half)"
   ]
  },
  {
   "cell_type": "code",
   "execution_count": null,
   "id": "d65875c2",
   "metadata": {},
   "outputs": [],
   "source": [
    "iris['Name'].value_counts()"
   ]
  },
  {
   "cell_type": "code",
   "execution_count": null,
   "id": "aee9d71c",
   "metadata": {},
   "outputs": [],
   "source": [
    "iris.sort_values(by= 'Name')"
   ]
  }
 ],
 "metadata": {
  "kernelspec": {
   "display_name": "Python 3 (ipykernel)",
   "language": "python",
   "name": "python3"
  },
  "language_info": {
   "codemirror_mode": {
    "name": "ipython",
    "version": 3
   },
   "file_extension": ".py",
   "mimetype": "text/x-python",
   "name": "python",
   "nbconvert_exporter": "python",
   "pygments_lexer": "ipython3",
   "version": "3.9.13"
  }
 },
 "nbformat": 4,
 "nbformat_minor": 5
}
