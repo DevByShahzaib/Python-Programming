{
 "cells": [
  {
   "cell_type": "code",
   "execution_count": 7,
   "id": "08519773",
   "metadata": {},
   "outputs": [],
   "source": [
    "class Phone:\n",
    "    def set_color(self, color):\n",
    "        self.color = color\n",
    "        \n",
    "    def set_cost(self, cost):\n",
    "        self.cost = cost\n",
    "    \n",
    "    def show_color(self):\n",
    "        return self.color\n",
    "    \n",
    "    def show_cost(self):\n",
    "        return self.cost\n",
    "        \n",
    "    def make_call(self):\n",
    "        print('please! call the User...')\n",
    "        \n",
    "    def play_games(self):\n",
    "        print('play Games Right Now...')\n",
    "        \n",
    "motorola = Phone()"
   ]
  },
  {
   "cell_type": "code",
   "execution_count": 23,
   "id": "8e719d16",
   "metadata": {},
   "outputs": [
    {
     "data": {
      "text/plain": [
       "'Black'"
      ]
     },
     "execution_count": 23,
     "metadata": {},
     "output_type": "execute_result"
    }
   ],
   "source": [
    "motorola.set_color(\"Black\")\n",
    "motorola.show_color()"
   ]
  },
  {
   "cell_type": "code",
   "execution_count": 17,
   "id": "45261bd4",
   "metadata": {},
   "outputs": [
    {
     "data": {
      "text/plain": [
       "50000"
      ]
     },
     "execution_count": 17,
     "metadata": {},
     "output_type": "execute_result"
    }
   ],
   "source": [
    "motorola.set_cost(50000)\n",
    "motorola.show_cost()"
   ]
  },
  {
   "cell_type": "code",
   "execution_count": 4,
   "id": "d6353418",
   "metadata": {},
   "outputs": [
    {
     "name": "stdout",
     "output_type": "stream",
     "text": [
      "please! call the User...\n"
     ]
    }
   ],
   "source": [
    "motorola.make_call()"
   ]
  },
  {
   "cell_type": "code",
   "execution_count": 3,
   "id": "dddefbfd",
   "metadata": {},
   "outputs": [
    {
     "name": "stdout",
     "output_type": "stream",
     "text": [
      "play Games Right Now...\n"
     ]
    }
   ],
   "source": [
    "motorola.play_games()"
   ]
  },
  {
   "cell_type": "markdown",
   "id": "0e05589e",
   "metadata": {},
   "source": [
    "# class with Constructor"
   ]
  },
  {
   "cell_type": "code",
   "execution_count": 39,
   "id": "2163dfd7",
   "metadata": {},
   "outputs": [
    {
     "name": "stdout",
     "output_type": "stream",
     "text": [
      "Name of employee is  Shahzaib\n",
      "Age of employee is  20\n",
      "Salary of employee  85000\n",
      "Gender of employee is  Male\n"
     ]
    }
   ],
   "source": [
    "class Employee:\n",
    "    def __init__(self, name, age, salary, gender):\n",
    "        self.name = name\n",
    "        self.age = age\n",
    "        self.salary = salary\n",
    "        self.gender = gender\n",
    "        \n",
    "    def details(self):\n",
    "        print('Name of employee is ',self.name)\n",
    "        print('Age of employee is ',self.age)\n",
    "        print('Salary of employee ',self.salary)\n",
    "        print('Gender of employee is ',self.gender)\n",
    "  \n",
    "emp = Employee('Shahzaib',20,85000,\"Male\")\n",
    "emp.details()"
   ]
  }
 ],
 "metadata": {
  "kernelspec": {
   "display_name": "Python 3 (ipykernel)",
   "language": "python",
   "name": "python3"
  },
  "language_info": {
   "codemirror_mode": {
    "name": "ipython",
    "version": 3
   },
   "file_extension": ".py",
   "mimetype": "text/x-python",
   "name": "python",
   "nbconvert_exporter": "python",
   "pygments_lexer": "ipython3",
   "version": "3.9.13"
  }
 },
 "nbformat": 4,
 "nbformat_minor": 5
}
