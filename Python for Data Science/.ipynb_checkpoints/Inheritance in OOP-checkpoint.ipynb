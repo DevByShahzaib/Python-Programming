{
 "cells": [
  {
   "cell_type": "markdown",
   "id": "f56e2536",
   "metadata": {},
   "source": [
    "# Inheritance"
   ]
  },
  {
   "cell_type": "code",
   "execution_count": 5,
   "id": "622869b8",
   "metadata": {},
   "outputs": [
    {
     "name": "stdout",
     "output_type": "stream",
     "text": [
      "I am a vehicle\n",
      "Mileage of vehicle is  500\n",
      "Cost of vehicle is  25000\n"
     ]
    }
   ],
   "source": [
    "class Vehicle:\n",
    "    def __init__(self, mileage, cost):\n",
    "        self.mileage = mileage\n",
    "        self.cost = cost\n",
    "        \n",
    "    def show_details(self):\n",
    "        print('I am a vehicle')\n",
    "        print('Mileage of vehicle is ', self.mileage)\n",
    "        print('Cost of vehicle is ', self.cost)\n",
    "        \n",
    "  \n",
    "\n",
    "\n",
    "civic = Vehicle(500,25000)\n",
    "civic.show_details()"
   ]
  },
  {
   "cell_type": "code",
   "execution_count": 24,
   "id": "dc5a0894",
   "metadata": {},
   "outputs": [
    {
     "name": "stdout",
     "output_type": "stream",
     "text": [
      "I am a vehicle\n",
      "Mileage of vehicle is  500\n",
      "Cost of vehicle is  40000\n"
     ]
    }
   ],
   "source": [
    "class Car(Vehicle):\n",
    "    def __init__(self,mileage,cost,tyres,Hp):\n",
    "        super().__init__(mileage,cost)\n",
    "        self.tyres = tyres\n",
    "        self.Hp = Hp\n",
    "    \n",
    "    def show_car_details(self):\n",
    "        print('I am a Car')\n",
    "        print('Number of tyres are ',self.tyres)\n",
    "        print('Value of horse power ',self.Hp)\n",
    "    \n",
    "    \n",
    "   \n",
    "\n",
    "\n",
    "\n",
    "c1 = Car(500,40000,4,550)\n",
    "c1.show_details()"
   ]
  },
  {
   "cell_type": "code",
   "execution_count": 23,
   "id": "c912fb00",
   "metadata": {},
   "outputs": [
    {
     "name": "stdout",
     "output_type": "stream",
     "text": [
      "I am a Car\n",
      "Number of tyres are  4\n",
      "Value of horse power  550\n"
     ]
    }
   ],
   "source": [
    "c1.show_car_details()"
   ]
  },
  {
   "cell_type": "markdown",
   "id": "21a505d2",
   "metadata": {},
   "source": [
    "# Multiple Inheritance"
   ]
  },
  {
   "cell_type": "code",
   "execution_count": 28,
   "id": "34c58b62",
   "metadata": {},
   "outputs": [],
   "source": [
    "class Parent_1:\n",
    "    def string_1(self,str_1):\n",
    "        self.str_1 = str_1\n",
    "        \n",
    "        \n",
    "    def show_str_1(self):\n",
    "        print(self.str_1)\n",
    "        \n",
    "        \n",
    "    \n",
    "class Parent_2:\n",
    "    def string_2(self,str_2):\n",
    "        self.str_2 = str_2\n",
    "        \n",
    "    def show_str_2(self):\n",
    "        print(self.str_2)\n",
    "        \n",
    "class Derived(Parent_1, Parent_2):\n",
    "    def string_3(self,str_3):\n",
    "        self.str_3 = str_3\n",
    "        \n",
    "    def show_str_3(self):\n",
    "        print(self.str_3)\n",
    "\n",
    "        \n",
    "        \n",
    "d1 = Derived()\n",
    "\n",
    "d1.string_1('One')\n",
    "d1.string_2('Two')\n",
    "d1.string_3('Three')"
   ]
  },
  {
   "cell_type": "code",
   "execution_count": 30,
   "id": "91e761ad",
   "metadata": {},
   "outputs": [
    {
     "name": "stdout",
     "output_type": "stream",
     "text": [
      "One\n"
     ]
    }
   ],
   "source": [
    "d1.show_str_1()"
   ]
  },
  {
   "cell_type": "code",
   "execution_count": 31,
   "id": "580ed6c3",
   "metadata": {},
   "outputs": [
    {
     "name": "stdout",
     "output_type": "stream",
     "text": [
      "Two\n"
     ]
    }
   ],
   "source": [
    "d1.show_str_2()"
   ]
  },
  {
   "cell_type": "code",
   "execution_count": 32,
   "id": "a8be47ab",
   "metadata": {},
   "outputs": [
    {
     "name": "stdout",
     "output_type": "stream",
     "text": [
      "Three\n"
     ]
    }
   ],
   "source": [
    "d1.show_str_3()"
   ]
  },
  {
   "cell_type": "markdown",
   "id": "2f031240",
   "metadata": {},
   "source": [
    "# Multi_Level_Inheritance"
   ]
  },
  {
   "cell_type": "code",
   "execution_count": 44,
   "id": "37734c7f",
   "metadata": {},
   "outputs": [],
   "source": [
    "class Parent:\n",
    "    def assign_name(self,name):\n",
    "        self.name = name\n",
    "        \n",
    "    def show_name(self):\n",
    "        return self.name\n",
    "    \n",
    "    \n",
    "class Child(Parent):\n",
    "    def assign_age(self,age):\n",
    "        self.age = age\n",
    "        \n",
    "    def show_age(self):\n",
    "        return self.age\n",
    "    \n",
    "class GrandChild(Child):\n",
    "    def assign_gender(self,gender):\n",
    "        self.gender = gender\n",
    "        \n",
    "    def show_gender(self):\n",
    "        return self.gender\n",
    "    \n",
    "    \n",
    "a1 = GrandChild()\n",
    "a1.assign_name(\"Shahzaib Khan\")\n",
    "a1.assign_age(20)\n",
    "a1.assign_gender(\"Male\")"
   ]
  },
  {
   "cell_type": "code",
   "execution_count": 47,
   "id": "3721e274",
   "metadata": {},
   "outputs": [
    {
     "data": {
      "text/plain": [
       "'Shahzaib Khan'"
      ]
     },
     "execution_count": 47,
     "metadata": {},
     "output_type": "execute_result"
    }
   ],
   "source": [
    "a1.show_name()"
   ]
  },
  {
   "cell_type": "code",
   "execution_count": 48,
   "id": "ce68c65b",
   "metadata": {},
   "outputs": [
    {
     "data": {
      "text/plain": [
       "20"
      ]
     },
     "execution_count": 48,
     "metadata": {},
     "output_type": "execute_result"
    }
   ],
   "source": [
    "a1.show_age()"
   ]
  },
  {
   "cell_type": "code",
   "execution_count": 49,
   "id": "8bbb9821",
   "metadata": {},
   "outputs": [
    {
     "data": {
      "text/plain": [
       "'Male'"
      ]
     },
     "execution_count": 49,
     "metadata": {},
     "output_type": "execute_result"
    }
   ],
   "source": [
    "a1.show_gender()"
   ]
  },
  {
   "cell_type": "code",
   "execution_count": null,
   "id": "1ddb1dbd",
   "metadata": {},
   "outputs": [],
   "source": []
  }
 ],
 "metadata": {
  "kernelspec": {
   "display_name": "Python 3 (ipykernel)",
   "language": "python",
   "name": "python3"
  },
  "language_info": {
   "codemirror_mode": {
    "name": "ipython",
    "version": 3
   },
   "file_extension": ".py",
   "mimetype": "text/x-python",
   "name": "python",
   "nbconvert_exporter": "python",
   "pygments_lexer": "ipython3",
   "version": "3.9.13"
  }
 },
 "nbformat": 4,
 "nbformat_minor": 5
}
