{
 "cells": [
  {
   "cell_type": "code",
   "execution_count": 1,
   "id": "9e7c7e44",
   "metadata": {},
   "outputs": [],
   "source": [
    "def hello():\n",
    "    print(\"Shahzaib Khan\")\n",
    "    \n"
   ]
  },
  {
   "cell_type": "code",
   "execution_count": 3,
   "id": "ffa1bb52",
   "metadata": {},
   "outputs": [
    {
     "name": "stdout",
     "output_type": "stream",
     "text": [
      "Shahzaib Khan\n"
     ]
    }
   ],
   "source": [
    "hello()"
   ]
  },
  {
   "cell_type": "code",
   "execution_count": 4,
   "id": "0bf79aaf",
   "metadata": {},
   "outputs": [],
   "source": [
    "def add_10(x):\n",
    "    return x+10\n",
    "\n"
   ]
  },
  {
   "cell_type": "code",
   "execution_count": 6,
   "id": "04eb06ac",
   "metadata": {},
   "outputs": [
    {
     "data": {
      "text/plain": [
       "15"
      ]
     },
     "execution_count": 6,
     "metadata": {},
     "output_type": "execute_result"
    }
   ],
   "source": [
    "add_10(5)"
   ]
  },
  {
   "cell_type": "code",
   "execution_count": 12,
   "id": "7a1150b8",
   "metadata": {},
   "outputs": [],
   "source": [
    "def odd_even(x):\n",
    "    if x%2==0:\n",
    "        print(f\"{x} is even Number\")\n",
    "        \n",
    "    else:\n",
    "         print(f\"{x} is odd Number\")\n",
    "        "
   ]
  },
  {
   "cell_type": "code",
   "execution_count": 14,
   "id": "ecaac3fe",
   "metadata": {},
   "outputs": [
    {
     "name": "stdout",
     "output_type": "stream",
     "text": [
      "4 is even Number\n"
     ]
    }
   ],
   "source": [
    "odd_even(4)"
   ]
  },
  {
   "cell_type": "code",
   "execution_count": 16,
   "id": "6def5d0f",
   "metadata": {},
   "outputs": [
    {
     "name": "stdout",
     "output_type": "stream",
     "text": [
      "15 is odd Number\n"
     ]
    }
   ],
   "source": [
    "odd_even(15)"
   ]
  },
  {
   "cell_type": "markdown",
   "id": "d9d870e6",
   "metadata": {},
   "source": [
    "# Lamda Func"
   ]
  },
  {
   "cell_type": "code",
   "execution_count": 18,
   "id": "c13b1324",
   "metadata": {},
   "outputs": [],
   "source": [
    "g = lambda x: x*x*x"
   ]
  },
  {
   "cell_type": "code",
   "execution_count": 21,
   "id": "deb1e12b",
   "metadata": {},
   "outputs": [
    {
     "data": {
      "text/plain": [
       "27"
      ]
     },
     "execution_count": 21,
     "metadata": {},
     "output_type": "execute_result"
    }
   ],
   "source": [
    "g(3)"
   ]
  },
  {
   "cell_type": "markdown",
   "id": "1b31a73a",
   "metadata": {},
   "source": [
    "# Lambda with Filters"
   ]
  },
  {
   "cell_type": "code",
   "execution_count": 25,
   "id": "c33b6fd0",
   "metadata": {},
   "outputs": [
    {
     "data": {
      "text/plain": [
       "[3, 5, 45, 23, 43]"
      ]
     },
     "execution_count": 25,
     "metadata": {},
     "output_type": "execute_result"
    }
   ],
   "source": [
    "list_ = [3,5,45,44,22,23,76,34,86,43,2]\n",
    "Final_list = list(filter(lambda x: x%2!=0, list_))\n",
    "Final_list"
   ]
  },
  {
   "cell_type": "markdown",
   "id": "bf20429a",
   "metadata": {},
   "source": [
    "# Lambda with Map"
   ]
  },
  {
   "cell_type": "code",
   "execution_count": 27,
   "id": "daa16659",
   "metadata": {},
   "outputs": [
    {
     "data": {
      "text/plain": [
       "[2, 4, 6, 8, 10, 12, 14, 16, 18, 20]"
      ]
     },
     "execution_count": 27,
     "metadata": {},
     "output_type": "execute_result"
    }
   ],
   "source": [
    "li = [1,2,3,4,5,6,7,8,9,10]\n",
    "final_list= list(map(lambda x: x*2,li))\n",
    "final_list"
   ]
  }
 ],
 "metadata": {
  "kernelspec": {
   "display_name": "Python 3 (ipykernel)",
   "language": "python",
   "name": "python3"
  },
  "language_info": {
   "codemirror_mode": {
    "name": "ipython",
    "version": 3
   },
   "file_extension": ".py",
   "mimetype": "text/x-python",
   "name": "python",
   "nbconvert_exporter": "python",
   "pygments_lexer": "ipython3",
   "version": "3.9.13"
  }
 },
 "nbformat": 4,
 "nbformat_minor": 5
}
